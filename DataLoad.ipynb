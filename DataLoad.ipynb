{
 "cells": [
  {
   "cell_type": "code",
   "execution_count": null,
   "id": "520b3b6a-77bf-499e-86fe-ff58b051c065",
   "metadata": {},
   "outputs": [],
   "source": [
    "# Import the read_csv function from my_functions.py\n",
    "import my_functions\n",
    "\n",
    "# Read Patients_csv\n",
    "df_patients = r'C:\\Users\\veena.vemula\\Documents\\GitHub\\SDE-Skills-Test\\Config\\Source Files\\csv\\patients.csv'  # Replace this with the actual file path\n",
    "\n",
    "# Call the read_csv function to load patients data\n",
    "df_patients = my_functions.read_csv(df_patients)\n",
    "\n",
    "# Check the result (show the first few rows)\n",
    "if df_patients is not None:\n",
    "    print(df_patients.head())\n",
    "else:\n",
    "    print(\"Failed to load the Patients CSV file.\")\n",
    "\n",
    "# Read conditions_csv\n",
    "df_conditions = r'C:\\Users\\veena.vemula\\Documents\\GitHub\\SDE-Skills-Test\\Config\\Source Files\\csv\\conditions.csv'  # Replace this with the actual file path\n",
    "\n",
    "# Call the read_csv function to load patients data\n",
    "df_conditions = my_functions.read_csv(df_conditions)\n",
    "\n",
    "# Check the result (show the first few rows)\n",
    "if df_conditions is not None:\n",
    "    print(df_conditions.head())\n",
    "else:\n",
    "    print(\"Failed to load the Conditions CSV file.\")\n",
    "\n",
    "# Read encounters_csv\n",
    "df_encounter = r'C:\\Users\\veena.vemula\\Documents\\GitHub\\SDE-Skills-Test\\Config\\Source Files\\csv\\encounters.csv'  # Replace this with the actual file path\n",
    "\n",
    "# Call the read_csv function to load patients data\n",
    "df_encounter = my_functions.read_csv(df_encounter)\n",
    "\n",
    "# Check the result (show the first few rows)\n",
    "if df_encounter is not None:\n",
    "    print(df_encounter.head())\n",
    "else:\n",
    "    print(\"Failed to load encounters CSV file.\")\n",
    "\n",
    "\n",
    "# Read medications_csv\n",
    "df_medication = r'C:\\Users\\veena.vemula\\Documents\\GitHub\\SDE-Skills-Test\\Config\\Source Files\\csv\\encounters.csv'  # Replace this with the actual file path\n",
    "\n",
    "# Call the read_csv function to load patients data\n",
    "df_medication = my_functions.read_csv(df_medication)\n",
    "\n",
    "# Check the result (show the first few rows)\n",
    "if df_medication is not None:\n",
    "    print(df_medication.head())\n",
    "else:\n",
    "    print(\"Failed to load medication CSV file.\")\n",
    "\n",
    "\n",
    "# Read Procedures_csv\n",
    "df_procedures = r'C:\\Users\\veena.vemula\\Documents\\GitHub\\SDE-Skills-Test\\Config\\Source Files\\csv\\procedures.csv'  # Replace this with the actual file path\n",
    "\n",
    "# Call the read_csv function to load patients data\n",
    "df_procedures = my_functions.read_csv(df_procedures)\n",
    "\n",
    "# Check the result (show the first few rows)\n",
    "if df_procedures is not None:\n",
    "    print(df_procedures.head())\n",
    "else:\n",
    "    print(\"Failed to load the procedure CSV file.\")\n",
    "\n",
    "# Read Organization_csv\n",
    "df_organizations = r'C:\\Users\\veena.vemula\\Documents\\GitHub\\SDE-Skills-Test\\Config\\Source Files\\csv\\organizations.csv'  # Replace this with the actual file path\n",
    "\n",
    "# Call the read_csv function to load patients data\n",
    "df_organizations = my_functions.read_csv(df_organizations)\n",
    "\n",
    "# Check the result (show the first few rows)\n",
    "if df_organizations is not None:\n",
    "    print(df_organizations.head())\n",
    "else:\n",
    "    print(\"Failed to load the organization CSV file.\")\n"
   ]
  },
  {
   "cell_type": "code",
   "execution_count": null,
   "id": "80faffc2-6609-42ff-859c-1ef1553a0445",
   "metadata": {},
   "outputs": [],
   "source": [
    "\"\"\" Check for any duplicate rows in each of dataset\"\"\"\n",
    "\n",
    "num_duplicates = df_patients.duplicated().sum()\n",
    "if num_duplicates > 0:\n",
    "    print(f\"Number of duplicate rows: {num_duplicates}\")\n",
    "else:\n",
    "    print(f\"No Duplicate values found in Patients file\")\n",
    "\n",
    "\n"
   ]
  },
  {
   "cell_type": "code",
   "execution_count": null,
   "id": "5b6ee40d-6a5f-46d2-8aaf-7f4dc6921361",
   "metadata": {},
   "outputs": [],
   "source": [
    "# List of DataFrames\n",
    "dataframes = {\n",
    "    \"Patients\": df_patients,\n",
    "    \"conditions\": df_conditions ,\n",
    "    \"encounters\": df_encounter,\n",
    "    \"Medications\":df_medication,\n",
    "    \"Procedures\": df_procedures,\n",
    "    \"organizations\" :df_organizations\n",
    "}\n",
    "\n",
    "# Loop through all DataFrames and check for duplicates\n",
    "for name, df in dataframes.items():\n",
    "    num_duplicates = df.duplicated().sum()\n",
    "    \n",
    "    if num_duplicates > 0:\n",
    "        print(f\"Number of duplicate rows in {name} file: {num_duplicates}\")\n",
    "    else:\n",
    "        print(f\"No duplicate values found in {name} file\")\n"
   ]
  },
  {
   "cell_type": "code",
   "execution_count": null,
   "id": "c6c98aa1-5957-476f-a66a-12bee16f4520",
   "metadata": {},
   "outputs": [],
   "source": [
    "\"\"\" Use Value_counts() to inspect the data and identify if any paterns \"\"\"\n",
    "\n",
    "df_patients['ADDRESS'].value_counts()\n",
    "df_patients['FIRST'].value_counts()\n"
   ]
  },
  {
   "cell_type": "code",
   "execution_count": null,
   "id": "895c6dc2-4679-4e7f-b64b-59586db1cb83",
   "metadata": {},
   "outputs": [],
   "source": [
    "df_patients.head()"
   ]
  },
  {
   "cell_type": "code",
   "execution_count": null,
   "id": "a81a3fd4-4613-4cfb-9e98-472abf63dcf9",
   "metadata": {},
   "outputs": [],
   "source": [
    "missing_values = df_patients .isnull().sum()\n",
    "print(\"Missing values in the DataFrame:\")\n",
    "print(missing_values)"
   ]
  },
  {
   "cell_type": "code",
   "execution_count": null,
   "id": "e5a5972f-9751-4a00-ac93-47360f04ebdf",
   "metadata": {},
   "outputs": [],
   "source": [
    "missing_values = df_conditions.isnull().sum()\n",
    "print(\"Missing values in the DataFrame:\")\n",
    "print(missing_values)"
   ]
  },
  {
   "cell_type": "code",
   "execution_count": null,
   "id": "00a5f329-2cb4-484c-9d90-9b8a2d55e91f",
   "metadata": {},
   "outputs": [],
   "source": [
    "missing_values = df_encounter.isnull().sum()\n",
    "print(\"Missing values in the DataFrame:\")\n",
    "print(missing_values)"
   ]
  },
  {
   "cell_type": "code",
   "execution_count": null,
   "id": "e89c0d3f-0ebd-4b4b-9f08-20d13b52d404",
   "metadata": {},
   "outputs": [],
   "source": [
    "missing_values = df_medication.isnull().sum()\n",
    "print(\"Missing values in the DataFrame:\")\n",
    "print(missing_values)"
   ]
  },
  {
   "cell_type": "code",
   "execution_count": null,
   "id": "7a117b17-fcea-44f3-baa3-7932b2af902e",
   "metadata": {},
   "outputs": [],
   "source": [
    "missing_values = df_procedures.isnull().sum()\n",
    "print(\"Missing values in the DataFrame:\")\n",
    "print(missing_values)"
   ]
  },
  {
   "cell_type": "code",
   "execution_count": null,
   "id": "ea37a727-0ebe-4426-b1a7-764be5055e3a",
   "metadata": {},
   "outputs": [],
   "source": [
    "missing_values = df_organizations.isnull().sum()\n",
    "print(\"Missing values in the DataFrame:\")\n",
    "print(missing_values)"
   ]
  },
  {
   "cell_type": "code",
   "execution_count": null,
   "id": "19dcdfbc-2947-4132-a071-237321ccc04b",
   "metadata": {},
   "outputs": [],
   "source": [
    "print(\"\\nData types of each column:\")\n",
    "print(df_patients.dtypes)"
   ]
  },
  {
   "cell_type": "code",
   "execution_count": null,
   "id": "acddf40e-cdd4-42a0-8c10-2c6586ac7174",
   "metadata": {},
   "outputs": [],
   "source": [
    "df_patientsdata = df_patients[['Id','BIRTHDATE','DEATHDATE','PREFIX','FIRST','LAST','MARITAL','RACE','ETHNICITY','GENDER','BIRTHPLACE','ADDRESS','CITY','STATE','ZIP']]\n",
    "\n",
    "string_cols = ['Id','PREFIX','FIRST','LAST','MARITAL',\n",
    "                                         'RACE','ETHNICITY','BIRTHPLACE','GENDER','ADDRESS','CITY','STATE']\n",
    "for i in string_cols:\n",
    "    df_patientsdata[i] = df_patientsdata[i].astype('string')\n",
    "\n",
    "df_patientsdata['BIRTHDATE'] = pd.to_datetime(df_patientsdata['BIRTHDATE'])\n",
    "df_patientsdata['DEATHDATE'] = pd.to_datetime(df_patientsdata['DEATHDATE'], errors='coerce')  # Handle invalid dates\n",
    "\n",
    "df_patientsdata.rename(columns={'Id': 'PatientId'}, inplace=True)"
   ]
  },
  {
   "cell_type": "code",
   "execution_count": null,
   "id": "e29bf0a9-ee42-44e8-a294-28e6c7607464",
   "metadata": {},
   "outputs": [],
   "source": [
    "print(df_patientsdata.dtypes)"
   ]
  },
  {
   "cell_type": "code",
   "execution_count": null,
   "id": "22adcfa0-eff0-4aca-b86c-4d8c0b750fb2",
   "metadata": {},
   "outputs": [],
   "source": [
    "df_patientsdata.columns"
   ]
  },
  {
   "cell_type": "code",
   "execution_count": null,
   "id": "1dd42f9b-9bc4-4b8a-be32-fc0501db6010",
   "metadata": {},
   "outputs": [],
   "source": [
    "df_conditionsdata = df_conditions[['START','STOP','PATIENT','ENCOUNTER','CODE','DESCRIPTION']]\n",
    "\n",
    "string_cols = ['PATIENT','ENCOUNTER','CODE','DESCRIPTION']\n",
    "for i in string_cols:\n",
    "    df_conditionsdata[i] = df_conditionsdata[i].astype('string')\n",
    "\n",
    "df_conditionsdata['START'] = pd.to_datetime(df_conditionsdata['START'])\n",
    "df_conditionsdata['STOP'] = pd.to_datetime(df_conditionsdata['STOP'], errors='coerce')  # Handle invalid dates\n",
    "\n",
    "df_conditionsdata.rename(columns={'CODE': 'DiagnosisCode'}, inplace=True)\n",
    "df_conditionsdata.rename(columns={'PATIENT': 'PatientId'}, inplace=True)"
   ]
  },
  {
   "cell_type": "code",
   "execution_count": 623,
   "id": "01f40229-0878-46be-8641-ad2b11b55832",
   "metadata": {},
   "outputs": [
    {
     "data": {
      "text/plain": [
       "START            datetime64[ns]\n",
       "STOP             datetime64[ns]\n",
       "PatientId        string[python]\n",
       "ENCOUNTER        string[python]\n",
       "DiagnosisCode    string[python]\n",
       "DESCRIPTION      string[python]\n",
       "dtype: object"
      ]
     },
     "execution_count": 623,
     "metadata": {},
     "output_type": "execute_result"
    }
   ],
   "source": [
    "df_conditionsdata.dtypes"
   ]
  },
  {
   "cell_type": "code",
   "execution_count": null,
   "id": "bf21de08-6614-4945-9d81-f244c729d014",
   "metadata": {},
   "outputs": [],
   "source": [
    "df_conditionsdata.head()"
   ]
  },
  {
   "cell_type": "code",
   "execution_count": null,
   "id": "3e2ba239-3729-4ed7-978c-78285faed4d8",
   "metadata": {},
   "outputs": [],
   "source": [
    "df_encounterdata = df_encounter[['Id','START','STOP','PATIENT','ORGANIZATION','ENCOUNTERCLASS','CODE','DESCRIPTION']]\n",
    "\n",
    "string_cols = ['Id','PATIENT','ORGANIZATION','ENCOUNTERCLASS','CODE','DESCRIPTION']\n",
    "for i in string_cols:\n",
    "    df_encounterdata[i] = df_encounterdata[i].astype('string')\n",
    "\n",
    "df_encounterdata['START'] = pd.to_datetime(df_encounterdata['START'])\n",
    "df_encounterdata['STOP'] = pd.to_datetime(df_encounterdata['STOP'], errors='coerce')  # Handle invalid dates\n",
    "\n",
    "df_encounterdata.rename(columns={'PATIENT': 'PatientId'}, inplace=True)"
   ]
  },
  {
   "cell_type": "code",
   "execution_count": 613,
   "id": "8104530c-abb2-4cd3-9440-7994beaf8069",
   "metadata": {},
   "outputs": [
    {
     "data": {
      "text/plain": [
       "Id                     string[python]\n",
       "START             datetime64[ns, UTC]\n",
       "STOP              datetime64[ns, UTC]\n",
       "PatientId              string[python]\n",
       "ORGANIZATION           string[python]\n",
       "ENCOUNTERCLASS         string[python]\n",
       "CODE                   string[python]\n",
       "DESCRIPTION            string[python]\n",
       "dtype: object"
      ]
     },
     "execution_count": 613,
     "metadata": {},
     "output_type": "execute_result"
    }
   ],
   "source": [
    "df_encounterdata.dtypes"
   ]
  },
  {
   "cell_type": "code",
   "execution_count": null,
   "id": "3aefff06-27cc-4bb1-82c8-e80a955ca7b4",
   "metadata": {},
   "outputs": [],
   "source": [
    "df_medication.dtypes"
   ]
  },
  {
   "cell_type": "code",
   "execution_count": null,
   "id": "75c973cf-b106-498b-bd1f-753dc0d2c73b",
   "metadata": {},
   "outputs": [],
   "source": [
    "df_medicationdata = df_medication[['Id','START','STOP','PATIENT','ORGANIZATION','ENCOUNTERCLASS','CODE','DESCRIPTION']]\n",
    "\n",
    "string_cols = ['Id','PATIENT','ORGANIZATION','ENCOUNTERCLASS','CODE','DESCRIPTION']\n",
    "for i in string_cols:\n",
    "    df_medicationdata[i] = df_medicationdata[i].astype('string')\n",
    "\n",
    "df_medicationdata['START'] = pd.to_datetime(df_medicationdata['START'])\n",
    "df_medicationdata['STOP'] = pd.to_datetime(df_medicationdata['STOP'], errors='coerce')  # Handle invalid dates\n",
    "\n",
    "df_medicationdata.rename(columns={'PATIENT': 'PatientId'}, inplace=True)"
   ]
  },
  {
   "cell_type": "code",
   "execution_count": null,
   "id": "4471b1eb-e690-4f17-9fa0-24507d52046e",
   "metadata": {},
   "outputs": [],
   "source": [
    "df_medicationdata.dtypes"
   ]
  },
  {
   "cell_type": "code",
   "execution_count": null,
   "id": "3d58e2a5-d2a0-4b44-b0ad-97eecd98c162",
   "metadata": {},
   "outputs": [],
   "source": [
    "df_proceduredata = df_procedures[['START','STOP','PATIENT','ENCOUNTER','CODE','DESCRIPTION']]\n",
    "\n",
    "string_cols = ['PATIENT','ENCOUNTER','CODE','DESCRIPTION']\n",
    "for i in string_cols:\n",
    "    df_proceduredata[i] = df_proceduredata[i].astype('string')\n",
    "\n",
    "df_proceduredata['START'] = pd.to_datetime(df_proceduredata['START'])\n",
    "df_proceduredata['STOP'] = pd.to_datetime(df_proceduredata['STOP'], errors='coerce')  # Handle invalid dates\n",
    "\n",
    "df_proceduredata.rename(columns={'PATIENT': 'PatientId'}, inplace=True)"
   ]
  },
  {
   "cell_type": "code",
   "execution_count": null,
   "id": "c21902ef-1c57-4eca-81f2-703b053de432",
   "metadata": {},
   "outputs": [],
   "source": [
    "df_proceduredata.dtypes"
   ]
  },
  {
   "cell_type": "code",
   "execution_count": null,
   "id": "e3cb4846-8c8e-493a-ad7c-887ad95f9a6c",
   "metadata": {},
   "outputs": [],
   "source": [
    "df_organizations.head()\n"
   ]
  },
  {
   "cell_type": "code",
   "execution_count": null,
   "id": "10ee48ea-8e9c-4203-9394-1d690b99b24f",
   "metadata": {},
   "outputs": [],
   "source": [
    "df_organizationdata = df_organizations[['Id','NAME','ADDRESS','CITY','STATE','ZIP']]\n",
    "\n",
    "string_cols = ['Id','NAME','ADDRESS','CITY','STATE']\n",
    "for i in string_cols:\n",
    "    df_organizationdata[i] = df_organizationdata[i].astype('string')\n",
    "\n",
    "df_organizationdata['ZIP'] = df_organizationdata['ZIP'].astype('float64')\n",
    "\n"
   ]
  },
  {
   "cell_type": "code",
   "execution_count": null,
   "id": "317e652d-7e81-4857-8569-bc35886ef14b",
   "metadata": {},
   "outputs": [],
   "source": [
    "df_organizationdata.dtypes"
   ]
  },
  {
   "cell_type": "code",
   "execution_count": null,
   "id": "9d7443e5-fc5b-453d-b5d5-9ecd37392102",
   "metadata": {},
   "outputs": [],
   "source": [
    "df_patientsdata.columns\n"
   ]
  },
  {
   "cell_type": "code",
   "execution_count": null,
   "id": "21fe4eea-4bf7-4be3-aea8-279c592ed928",
   "metadata": {},
   "outputs": [],
   "source": [
    "df_conditionsdata.columns"
   ]
  },
  {
   "cell_type": "code",
   "execution_count": 619,
   "id": "8a3ec590-a014-47d8-8180-0935d2f9d545",
   "metadata": {},
   "outputs": [],
   "source": [
    "\"\"\" Transformations\"\"\"\n",
    "df_daignosisdatamerge = pd.merge(df_patientsdata, df_conditionsdata, on='PatientId', how='left')\n",
    "\n",
    "df_diagnosisdata.drop(df_diagnosisdata.index, inplace=True)\n",
    "# Select specific columns\n",
    "df_diagnosisdata = df_daignosisdatamerge[['BIRTHDATE','START', 'STOP', 'PatientId', 'ENCOUNTER', 'DiagnosisCode',\n",
    "       'DESCRIPTION']]\n"
   ]
  },
  {
   "cell_type": "code",
   "execution_count": 621,
   "id": "510fdb3b-d679-4400-9397-73c207f98e61",
   "metadata": {},
   "outputs": [
    {
     "data": {
      "text/html": [
       "<div>\n",
       "<style scoped>\n",
       "    .dataframe tbody tr th:only-of-type {\n",
       "        vertical-align: middle;\n",
       "    }\n",
       "\n",
       "    .dataframe tbody tr th {\n",
       "        vertical-align: top;\n",
       "    }\n",
       "\n",
       "    .dataframe thead th {\n",
       "        text-align: right;\n",
       "    }\n",
       "</style>\n",
       "<table border=\"1\" class=\"dataframe\">\n",
       "  <thead>\n",
       "    <tr style=\"text-align: right;\">\n",
       "      <th></th>\n",
       "      <th>BIRTHDATE</th>\n",
       "      <th>START</th>\n",
       "      <th>STOP</th>\n",
       "      <th>PatientId</th>\n",
       "      <th>ENCOUNTER</th>\n",
       "      <th>DiagnosisCode</th>\n",
       "      <th>DESCRIPTION</th>\n",
       "    </tr>\n",
       "  </thead>\n",
       "  <tbody>\n",
       "    <tr>\n",
       "      <th>0</th>\n",
       "      <td>2019-02-17</td>\n",
       "      <td>NaT</td>\n",
       "      <td>NaT</td>\n",
       "      <td>b9c610cd-28a6-4636-ccb6-c7a0d2a4cb85</td>\n",
       "      <td>&lt;NA&gt;</td>\n",
       "      <td>&lt;NA&gt;</td>\n",
       "      <td>&lt;NA&gt;</td>\n",
       "    </tr>\n",
       "    <tr>\n",
       "      <th>1</th>\n",
       "      <td>2005-07-04</td>\n",
       "      <td>2013-06-24</td>\n",
       "      <td>2013-07-02</td>\n",
       "      <td>c1f1fcaa-82fd-d5b7-3544-c8f9708b06a8</td>\n",
       "      <td>0b2794bd-ec2b-d34f-0610-2523b3b7fcf0</td>\n",
       "      <td>10509002</td>\n",
       "      <td>Acute bronchitis (disorder)</td>\n",
       "    </tr>\n",
       "    <tr>\n",
       "      <th>2</th>\n",
       "      <td>2005-07-04</td>\n",
       "      <td>2016-02-27</td>\n",
       "      <td>2016-03-14</td>\n",
       "      <td>c1f1fcaa-82fd-d5b7-3544-c8f9708b06a8</td>\n",
       "      <td>a6d818dd-0983-fd1c-eefa-3d2295532c45</td>\n",
       "      <td>283371005</td>\n",
       "      <td>Laceration of forearm</td>\n",
       "    </tr>\n",
       "    <tr>\n",
       "      <th>3</th>\n",
       "      <td>2005-07-04</td>\n",
       "      <td>2016-08-11</td>\n",
       "      <td>2016-08-22</td>\n",
       "      <td>c1f1fcaa-82fd-d5b7-3544-c8f9708b06a8</td>\n",
       "      <td>36d2e781-4655-0a11-1f70-c69856e02019</td>\n",
       "      <td>444814009</td>\n",
       "      <td>Viral sinusitis (disorder)</td>\n",
       "    </tr>\n",
       "    <tr>\n",
       "      <th>4</th>\n",
       "      <td>2005-07-04</td>\n",
       "      <td>2016-11-27</td>\n",
       "      <td>2016-12-17</td>\n",
       "      <td>c1f1fcaa-82fd-d5b7-3544-c8f9708b06a8</td>\n",
       "      <td>c8eaaf41-958b-31ab-7de5-568cee8751f3</td>\n",
       "      <td>444814009</td>\n",
       "      <td>Viral sinusitis (disorder)</td>\n",
       "    </tr>\n",
       "    <tr>\n",
       "      <th>...</th>\n",
       "      <td>...</td>\n",
       "      <td>...</td>\n",
       "      <td>...</td>\n",
       "      <td>...</td>\n",
       "      <td>...</td>\n",
       "      <td>...</td>\n",
       "      <td>...</td>\n",
       "    </tr>\n",
       "    <tr>\n",
       "      <th>38105</th>\n",
       "      <td>1958-11-07</td>\n",
       "      <td>2020-01-10</td>\n",
       "      <td>2021-01-15</td>\n",
       "      <td>cb1b2c74-d1c5-997c-6f8b-20ca9f332eef</td>\n",
       "      <td>090096d3-9404-3cb5-d1eb-583bf4c39180</td>\n",
       "      <td>160903007</td>\n",
       "      <td>Full-time employment (finding)</td>\n",
       "    </tr>\n",
       "    <tr>\n",
       "      <th>38106</th>\n",
       "      <td>1958-11-07</td>\n",
       "      <td>2020-12-27</td>\n",
       "      <td>2021-01-03</td>\n",
       "      <td>cb1b2c74-d1c5-997c-6f8b-20ca9f332eef</td>\n",
       "      <td>db101ad8-66e2-9feb-e0cf-b2618f873c3a</td>\n",
       "      <td>38822007</td>\n",
       "      <td>Cystitis</td>\n",
       "    </tr>\n",
       "    <tr>\n",
       "      <th>38107</th>\n",
       "      <td>1958-11-07</td>\n",
       "      <td>2021-01-15</td>\n",
       "      <td>NaT</td>\n",
       "      <td>cb1b2c74-d1c5-997c-6f8b-20ca9f332eef</td>\n",
       "      <td>1516d2e6-4846-5f1e-fe27-c1ebb9a39f72</td>\n",
       "      <td>160904001</td>\n",
       "      <td>Part-time employment (finding)</td>\n",
       "    </tr>\n",
       "    <tr>\n",
       "      <th>38108</th>\n",
       "      <td>1958-11-07</td>\n",
       "      <td>2021-01-15</td>\n",
       "      <td>NaT</td>\n",
       "      <td>cb1b2c74-d1c5-997c-6f8b-20ca9f332eef</td>\n",
       "      <td>1516d2e6-4846-5f1e-fe27-c1ebb9a39f72</td>\n",
       "      <td>73595000</td>\n",
       "      <td>Stress (finding)</td>\n",
       "    </tr>\n",
       "    <tr>\n",
       "      <th>38109</th>\n",
       "      <td>1958-11-07</td>\n",
       "      <td>2021-01-15</td>\n",
       "      <td>NaT</td>\n",
       "      <td>cb1b2c74-d1c5-997c-6f8b-20ca9f332eef</td>\n",
       "      <td>1516d2e6-4846-5f1e-fe27-c1ebb9a39f72</td>\n",
       "      <td>706893006</td>\n",
       "      <td>Victim of intimate partner abuse (finding)</td>\n",
       "    </tr>\n",
       "  </tbody>\n",
       "</table>\n",
       "<p>38110 rows × 7 columns</p>\n",
       "</div>"
      ],
      "text/plain": [
       "       BIRTHDATE      START       STOP                             PatientId  \\\n",
       "0     2019-02-17        NaT        NaT  b9c610cd-28a6-4636-ccb6-c7a0d2a4cb85   \n",
       "1     2005-07-04 2013-06-24 2013-07-02  c1f1fcaa-82fd-d5b7-3544-c8f9708b06a8   \n",
       "2     2005-07-04 2016-02-27 2016-03-14  c1f1fcaa-82fd-d5b7-3544-c8f9708b06a8   \n",
       "3     2005-07-04 2016-08-11 2016-08-22  c1f1fcaa-82fd-d5b7-3544-c8f9708b06a8   \n",
       "4     2005-07-04 2016-11-27 2016-12-17  c1f1fcaa-82fd-d5b7-3544-c8f9708b06a8   \n",
       "...          ...        ...        ...                                   ...   \n",
       "38105 1958-11-07 2020-01-10 2021-01-15  cb1b2c74-d1c5-997c-6f8b-20ca9f332eef   \n",
       "38106 1958-11-07 2020-12-27 2021-01-03  cb1b2c74-d1c5-997c-6f8b-20ca9f332eef   \n",
       "38107 1958-11-07 2021-01-15        NaT  cb1b2c74-d1c5-997c-6f8b-20ca9f332eef   \n",
       "38108 1958-11-07 2021-01-15        NaT  cb1b2c74-d1c5-997c-6f8b-20ca9f332eef   \n",
       "38109 1958-11-07 2021-01-15        NaT  cb1b2c74-d1c5-997c-6f8b-20ca9f332eef   \n",
       "\n",
       "                                  ENCOUNTER DiagnosisCode  \\\n",
       "0                                      <NA>          <NA>   \n",
       "1      0b2794bd-ec2b-d34f-0610-2523b3b7fcf0      10509002   \n",
       "2      a6d818dd-0983-fd1c-eefa-3d2295532c45     283371005   \n",
       "3      36d2e781-4655-0a11-1f70-c69856e02019     444814009   \n",
       "4      c8eaaf41-958b-31ab-7de5-568cee8751f3     444814009   \n",
       "...                                     ...           ...   \n",
       "38105  090096d3-9404-3cb5-d1eb-583bf4c39180     160903007   \n",
       "38106  db101ad8-66e2-9feb-e0cf-b2618f873c3a      38822007   \n",
       "38107  1516d2e6-4846-5f1e-fe27-c1ebb9a39f72     160904001   \n",
       "38108  1516d2e6-4846-5f1e-fe27-c1ebb9a39f72      73595000   \n",
       "38109  1516d2e6-4846-5f1e-fe27-c1ebb9a39f72     706893006   \n",
       "\n",
       "                                      DESCRIPTION  \n",
       "0                                            <NA>  \n",
       "1                     Acute bronchitis (disorder)  \n",
       "2                           Laceration of forearm  \n",
       "3                      Viral sinusitis (disorder)  \n",
       "4                      Viral sinusitis (disorder)  \n",
       "...                                           ...  \n",
       "38105              Full-time employment (finding)  \n",
       "38106                                    Cystitis  \n",
       "38107              Part-time employment (finding)  \n",
       "38108                            Stress (finding)  \n",
       "38109  Victim of intimate partner abuse (finding)  \n",
       "\n",
       "[38110 rows x 7 columns]"
      ]
     },
     "execution_count": 621,
     "metadata": {},
     "output_type": "execute_result"
    }
   ],
   "source": [
    "df_diagnosisdata"
   ]
  },
  {
   "cell_type": "code",
   "execution_count": null,
   "id": "f2a2901a-128e-48ef-a90b-a81d37fc7982",
   "metadata": {},
   "outputs": [],
   "source": [
    "df_daignosisdata['AGE_AT_DIAGNOSIS'] = ( df_daignosisdata['START']-df_daignosisdata['BIRTHDATE'] ).dt.days // 365"
   ]
  },
  {
   "cell_type": "code",
   "execution_count": null,
   "id": "2ada867d-016d-467b-95c0-1da494a461ad",
   "metadata": {},
   "outputs": [],
   "source": [
    "\"\"\"Define Age Groups\"\"\"\n",
    "\n",
    "\n",
    "# Define bins and labels\n",
    "bins = [0, 5, 10, 15, 20, 25, 30, 35, 40, 45, 50, 55, 60, 65, 70, 75, 80, 85, 90, float('inf')]\n",
    "labels = ['0-5', '5-10', '10-15', '15-20', '20-25', '25-30', '30-35', '35-40', '40-45',\n",
    "          '45-50', '50-55', '55-60', '60-65', '65-70', '70-75', '75-80', '80-85', '85-90', '90+']\n",
    "\n",
    "# Categorize the ages\n",
    "df_daignosisdata['Age Group'] = pd.cut(df_daignosisdata['AGE_AT_DIAGNOSIS'], bins=bins, labels=labels, right=False)\n",
    "\n",
    "\n"
   ]
  },
  {
   "cell_type": "code",
   "execution_count": null,
   "id": "9b98d44a-2d02-4eed-8095-98187af8873b",
   "metadata": {},
   "outputs": [],
   "source": [
    "df_daignosisdata.head()"
   ]
  },
  {
   "cell_type": "code",
   "execution_count": null,
   "id": "0c3d8c94-4a83-455c-b257-dd60b15f9b6b",
   "metadata": {},
   "outputs": [],
   "source": [
    "\"\"\" Length of Stay\"\"\"\n",
    "df_encounterdata.head()"
   ]
  },
  {
   "cell_type": "code",
   "execution_count": null,
   "id": "71bb6991-cd95-48c1-b95a-1773f83096a6",
   "metadata": {},
   "outputs": [],
   "source": [
    "\"\"\" Transformations\"\"\"\n",
    "df_encounterdatamerge = pd.merge(df_patientsdata, df_encounterdata, on='PatientId', how='left')\n",
    "\n",
    "\n",
    "# Select specific columns\n",
    "df_hospitalvisitdata = df_encounterdatamerge[['BIRTHDATE','Id', 'START', 'STOP', 'PatientId', 'ORGANIZATION', 'ENCOUNTERCLASS',\n",
    "       'CODE', 'DESCRIPTION']]\n",
    "df_hospitalvisitdata.rename(columns={'Id': 'EncounterID'}, inplace=True)\n"
   ]
  },
  {
   "cell_type": "code",
   "execution_count": 617,
   "id": "4d44f81b-3b3f-46c1-9d8a-5c6d337062d5",
   "metadata": {},
   "outputs": [
    {
     "data": {
      "text/html": [
       "<div>\n",
       "<style scoped>\n",
       "    .dataframe tbody tr th:only-of-type {\n",
       "        vertical-align: middle;\n",
       "    }\n",
       "\n",
       "    .dataframe tbody tr th {\n",
       "        vertical-align: top;\n",
       "    }\n",
       "\n",
       "    .dataframe thead th {\n",
       "        text-align: right;\n",
       "    }\n",
       "</style>\n",
       "<table border=\"1\" class=\"dataframe\">\n",
       "  <thead>\n",
       "    <tr style=\"text-align: right;\">\n",
       "      <th></th>\n",
       "      <th>BIRTHDATE</th>\n",
       "      <th>EncounterID</th>\n",
       "      <th>START</th>\n",
       "      <th>STOP</th>\n",
       "      <th>PatientId</th>\n",
       "      <th>ORGANIZATION</th>\n",
       "      <th>ENCOUNTERCLASS</th>\n",
       "      <th>CODE</th>\n",
       "      <th>DESCRIPTION</th>\n",
       "    </tr>\n",
       "  </thead>\n",
       "  <tbody>\n",
       "    <tr>\n",
       "      <th>0</th>\n",
       "      <td>2019-02-17</td>\n",
       "      <td>748f8357-6cc7-551d-f31a-32fa2cf84126</td>\n",
       "      <td>2019-02-17 05:07:38+00:00</td>\n",
       "      <td>2019-02-17 05:22:38+00:00</td>\n",
       "      <td>b9c610cd-28a6-4636-ccb6-c7a0d2a4cb85</td>\n",
       "      <td>f7ae497d-8dc6-3721-9402-43b621a4e7d2</td>\n",
       "      <td>wellness</td>\n",
       "      <td>410620009</td>\n",
       "      <td>Well child visit (procedure)</td>\n",
       "    </tr>\n",
       "    <tr>\n",
       "      <th>1</th>\n",
       "      <td>2019-02-17</td>\n",
       "      <td>5a4735ae-423f-6563-28ab-b3d11b49b2d4</td>\n",
       "      <td>2019-03-24 05:07:38+00:00</td>\n",
       "      <td>2019-03-24 05:22:38+00:00</td>\n",
       "      <td>b9c610cd-28a6-4636-ccb6-c7a0d2a4cb85</td>\n",
       "      <td>f7ae497d-8dc6-3721-9402-43b621a4e7d2</td>\n",
       "      <td>wellness</td>\n",
       "      <td>410620009</td>\n",
       "      <td>Well child visit (procedure)</td>\n",
       "    </tr>\n",
       "    <tr>\n",
       "      <th>2</th>\n",
       "      <td>2019-02-17</td>\n",
       "      <td>0bee1ce6-3e2c-5506-f71c-a7ba8f64a3d3</td>\n",
       "      <td>2019-05-26 05:07:38+00:00</td>\n",
       "      <td>2019-05-26 05:22:38+00:00</td>\n",
       "      <td>b9c610cd-28a6-4636-ccb6-c7a0d2a4cb85</td>\n",
       "      <td>f7ae497d-8dc6-3721-9402-43b621a4e7d2</td>\n",
       "      <td>wellness</td>\n",
       "      <td>410620009</td>\n",
       "      <td>Well child visit (procedure)</td>\n",
       "    </tr>\n",
       "    <tr>\n",
       "      <th>3</th>\n",
       "      <td>2019-02-17</td>\n",
       "      <td>6e93bcf9-45a4-8528-0120-1c1eaa930faf</td>\n",
       "      <td>2019-07-28 05:07:38+00:00</td>\n",
       "      <td>2019-07-28 05:22:38+00:00</td>\n",
       "      <td>b9c610cd-28a6-4636-ccb6-c7a0d2a4cb85</td>\n",
       "      <td>f7ae497d-8dc6-3721-9402-43b621a4e7d2</td>\n",
       "      <td>wellness</td>\n",
       "      <td>410620009</td>\n",
       "      <td>Well child visit (procedure)</td>\n",
       "    </tr>\n",
       "    <tr>\n",
       "      <th>4</th>\n",
       "      <td>2019-02-17</td>\n",
       "      <td>8b6787c3-4316-a0cb-899d-4746525c319f</td>\n",
       "      <td>2019-10-27 05:07:38+00:00</td>\n",
       "      <td>2019-10-27 05:22:38+00:00</td>\n",
       "      <td>b9c610cd-28a6-4636-ccb6-c7a0d2a4cb85</td>\n",
       "      <td>f7ae497d-8dc6-3721-9402-43b621a4e7d2</td>\n",
       "      <td>wellness</td>\n",
       "      <td>410620009</td>\n",
       "      <td>Well child visit (procedure)</td>\n",
       "    </tr>\n",
       "  </tbody>\n",
       "</table>\n",
       "</div>"
      ],
      "text/plain": [
       "   BIRTHDATE                           EncounterID                     START  \\\n",
       "0 2019-02-17  748f8357-6cc7-551d-f31a-32fa2cf84126 2019-02-17 05:07:38+00:00   \n",
       "1 2019-02-17  5a4735ae-423f-6563-28ab-b3d11b49b2d4 2019-03-24 05:07:38+00:00   \n",
       "2 2019-02-17  0bee1ce6-3e2c-5506-f71c-a7ba8f64a3d3 2019-05-26 05:07:38+00:00   \n",
       "3 2019-02-17  6e93bcf9-45a4-8528-0120-1c1eaa930faf 2019-07-28 05:07:38+00:00   \n",
       "4 2019-02-17  8b6787c3-4316-a0cb-899d-4746525c319f 2019-10-27 05:07:38+00:00   \n",
       "\n",
       "                       STOP                             PatientId  \\\n",
       "0 2019-02-17 05:22:38+00:00  b9c610cd-28a6-4636-ccb6-c7a0d2a4cb85   \n",
       "1 2019-03-24 05:22:38+00:00  b9c610cd-28a6-4636-ccb6-c7a0d2a4cb85   \n",
       "2 2019-05-26 05:22:38+00:00  b9c610cd-28a6-4636-ccb6-c7a0d2a4cb85   \n",
       "3 2019-07-28 05:22:38+00:00  b9c610cd-28a6-4636-ccb6-c7a0d2a4cb85   \n",
       "4 2019-10-27 05:22:38+00:00  b9c610cd-28a6-4636-ccb6-c7a0d2a4cb85   \n",
       "\n",
       "                           ORGANIZATION ENCOUNTERCLASS       CODE  \\\n",
       "0  f7ae497d-8dc6-3721-9402-43b621a4e7d2       wellness  410620009   \n",
       "1  f7ae497d-8dc6-3721-9402-43b621a4e7d2       wellness  410620009   \n",
       "2  f7ae497d-8dc6-3721-9402-43b621a4e7d2       wellness  410620009   \n",
       "3  f7ae497d-8dc6-3721-9402-43b621a4e7d2       wellness  410620009   \n",
       "4  f7ae497d-8dc6-3721-9402-43b621a4e7d2       wellness  410620009   \n",
       "\n",
       "                    DESCRIPTION  \n",
       "0  Well child visit (procedure)  \n",
       "1  Well child visit (procedure)  \n",
       "2  Well child visit (procedure)  \n",
       "3  Well child visit (procedure)  \n",
       "4  Well child visit (procedure)  "
      ]
     },
     "execution_count": 617,
     "metadata": {},
     "output_type": "execute_result"
    }
   ],
   "source": [
    "df_hospitalvisitdata.head()"
   ]
  },
  {
   "cell_type": "code",
   "execution_count": 615,
   "id": "c531d77c-1b25-4c25-a06b-f1861e07dd88",
   "metadata": {},
   "outputs": [
    {
     "ename": "TypeError",
     "evalue": "Cannot subtract tz-naive and tz-aware datetime-like objects",
     "output_type": "error",
     "traceback": [
      "\u001b[1;31m---------------------------------------------------------------------------\u001b[0m",
      "\u001b[1;31mTypeError\u001b[0m                                 Traceback (most recent call last)",
      "File \u001b[1;32m~\\anaconda3\\Lib\\site-packages\\pandas\\core\\arrays\\datetimelike.py:1165\u001b[0m, in \u001b[0;36mDatetimeLikeArrayMixin._sub_datetimelike\u001b[1;34m(self, other)\u001b[0m\n\u001b[0;32m   1164\u001b[0m \u001b[38;5;28;01mtry\u001b[39;00m:\n\u001b[1;32m-> 1165\u001b[0m     \u001b[38;5;28mself\u001b[39m\u001b[38;5;241m.\u001b[39m_assert_tzawareness_compat(other)\n\u001b[0;32m   1166\u001b[0m \u001b[38;5;28;01mexcept\u001b[39;00m \u001b[38;5;167;01mTypeError\u001b[39;00m \u001b[38;5;28;01mas\u001b[39;00m err:\n",
      "File \u001b[1;32m~\\anaconda3\\Lib\\site-packages\\pandas\\core\\arrays\\datetimes.py:786\u001b[0m, in \u001b[0;36mDatetimeArray._assert_tzawareness_compat\u001b[1;34m(self, other)\u001b[0m\n\u001b[0;32m    785\u001b[0m \u001b[38;5;28;01melif\u001b[39;00m other_tz \u001b[38;5;129;01mis\u001b[39;00m \u001b[38;5;28;01mNone\u001b[39;00m:\n\u001b[1;32m--> 786\u001b[0m     \u001b[38;5;28;01mraise\u001b[39;00m \u001b[38;5;167;01mTypeError\u001b[39;00m(\n\u001b[0;32m    787\u001b[0m         \u001b[38;5;124m\"\u001b[39m\u001b[38;5;124mCannot compare tz-naive and tz-aware datetime-like objects\u001b[39m\u001b[38;5;124m\"\u001b[39m\n\u001b[0;32m    788\u001b[0m     )\n",
      "\u001b[1;31mTypeError\u001b[0m: Cannot compare tz-naive and tz-aware datetime-like objects",
      "\nThe above exception was the direct cause of the following exception:\n",
      "\u001b[1;31mTypeError\u001b[0m                                 Traceback (most recent call last)",
      "Cell \u001b[1;32mIn[615], line 1\u001b[0m\n\u001b[1;32m----> 1\u001b[0m df_hospitalvisitdata[\u001b[38;5;124m'\u001b[39m\u001b[38;5;124mAGE_AT_HospitalVisit\u001b[39m\u001b[38;5;124m'\u001b[39m] \u001b[38;5;241m=\u001b[39m ( df_hospitalvisitdata[\u001b[38;5;124m'\u001b[39m\u001b[38;5;124mSTART\u001b[39m\u001b[38;5;124m'\u001b[39m]\u001b[38;5;241m-\u001b[39mdf_hospitalvisitdata[\u001b[38;5;124m'\u001b[39m\u001b[38;5;124mBIRTHDATE\u001b[39m\u001b[38;5;124m'\u001b[39m] )\u001b[38;5;241m.\u001b[39mdt\u001b[38;5;241m.\u001b[39mdays \u001b[38;5;241m/\u001b[39m\u001b[38;5;241m/\u001b[39m \u001b[38;5;241m365\u001b[39m\n",
      "File \u001b[1;32m~\\anaconda3\\Lib\\site-packages\\pandas\\core\\ops\\common.py:76\u001b[0m, in \u001b[0;36m_unpack_zerodim_and_defer.<locals>.new_method\u001b[1;34m(self, other)\u001b[0m\n\u001b[0;32m     72\u001b[0m             \u001b[38;5;28;01mreturn\u001b[39;00m \u001b[38;5;28mNotImplemented\u001b[39m\n\u001b[0;32m     74\u001b[0m other \u001b[38;5;241m=\u001b[39m item_from_zerodim(other)\n\u001b[1;32m---> 76\u001b[0m \u001b[38;5;28;01mreturn\u001b[39;00m method(\u001b[38;5;28mself\u001b[39m, other)\n",
      "File \u001b[1;32m~\\anaconda3\\Lib\\site-packages\\pandas\\core\\arraylike.py:194\u001b[0m, in \u001b[0;36mOpsMixin.__sub__\u001b[1;34m(self, other)\u001b[0m\n\u001b[0;32m    192\u001b[0m \u001b[38;5;129m@unpack_zerodim_and_defer\u001b[39m(\u001b[38;5;124m\"\u001b[39m\u001b[38;5;124m__sub__\u001b[39m\u001b[38;5;124m\"\u001b[39m)\n\u001b[0;32m    193\u001b[0m \u001b[38;5;28;01mdef\u001b[39;00m \u001b[38;5;21m__sub__\u001b[39m(\u001b[38;5;28mself\u001b[39m, other):\n\u001b[1;32m--> 194\u001b[0m     \u001b[38;5;28;01mreturn\u001b[39;00m \u001b[38;5;28mself\u001b[39m\u001b[38;5;241m.\u001b[39m_arith_method(other, operator\u001b[38;5;241m.\u001b[39msub)\n",
      "File \u001b[1;32m~\\anaconda3\\Lib\\site-packages\\pandas\\core\\series.py:6135\u001b[0m, in \u001b[0;36mSeries._arith_method\u001b[1;34m(self, other, op)\u001b[0m\n\u001b[0;32m   6133\u001b[0m \u001b[38;5;28;01mdef\u001b[39;00m \u001b[38;5;21m_arith_method\u001b[39m(\u001b[38;5;28mself\u001b[39m, other, op):\n\u001b[0;32m   6134\u001b[0m     \u001b[38;5;28mself\u001b[39m, other \u001b[38;5;241m=\u001b[39m \u001b[38;5;28mself\u001b[39m\u001b[38;5;241m.\u001b[39m_align_for_op(other)\n\u001b[1;32m-> 6135\u001b[0m     \u001b[38;5;28;01mreturn\u001b[39;00m base\u001b[38;5;241m.\u001b[39mIndexOpsMixin\u001b[38;5;241m.\u001b[39m_arith_method(\u001b[38;5;28mself\u001b[39m, other, op)\n",
      "File \u001b[1;32m~\\anaconda3\\Lib\\site-packages\\pandas\\core\\base.py:1382\u001b[0m, in \u001b[0;36mIndexOpsMixin._arith_method\u001b[1;34m(self, other, op)\u001b[0m\n\u001b[0;32m   1379\u001b[0m     rvalues \u001b[38;5;241m=\u001b[39m np\u001b[38;5;241m.\u001b[39marange(rvalues\u001b[38;5;241m.\u001b[39mstart, rvalues\u001b[38;5;241m.\u001b[39mstop, rvalues\u001b[38;5;241m.\u001b[39mstep)\n\u001b[0;32m   1381\u001b[0m \u001b[38;5;28;01mwith\u001b[39;00m np\u001b[38;5;241m.\u001b[39merrstate(\u001b[38;5;28mall\u001b[39m\u001b[38;5;241m=\u001b[39m\u001b[38;5;124m\"\u001b[39m\u001b[38;5;124mignore\u001b[39m\u001b[38;5;124m\"\u001b[39m):\n\u001b[1;32m-> 1382\u001b[0m     result \u001b[38;5;241m=\u001b[39m ops\u001b[38;5;241m.\u001b[39marithmetic_op(lvalues, rvalues, op)\n\u001b[0;32m   1384\u001b[0m \u001b[38;5;28;01mreturn\u001b[39;00m \u001b[38;5;28mself\u001b[39m\u001b[38;5;241m.\u001b[39m_construct_result(result, name\u001b[38;5;241m=\u001b[39mres_name)\n",
      "File \u001b[1;32m~\\anaconda3\\Lib\\site-packages\\pandas\\core\\ops\\array_ops.py:273\u001b[0m, in \u001b[0;36marithmetic_op\u001b[1;34m(left, right, op)\u001b[0m\n\u001b[0;32m    260\u001b[0m \u001b[38;5;66;03m# NB: We assume that extract_array and ensure_wrapped_if_datetimelike\u001b[39;00m\n\u001b[0;32m    261\u001b[0m \u001b[38;5;66;03m#  have already been called on `left` and `right`,\u001b[39;00m\n\u001b[0;32m    262\u001b[0m \u001b[38;5;66;03m#  and `maybe_prepare_scalar_for_op` has already been called on `right`\u001b[39;00m\n\u001b[0;32m    263\u001b[0m \u001b[38;5;66;03m# We need to special-case datetime64/timedelta64 dtypes (e.g. because numpy\u001b[39;00m\n\u001b[0;32m    264\u001b[0m \u001b[38;5;66;03m# casts integer dtypes to timedelta64 when operating with timedelta64 - GH#22390)\u001b[39;00m\n\u001b[0;32m    266\u001b[0m \u001b[38;5;28;01mif\u001b[39;00m (\n\u001b[0;32m    267\u001b[0m     should_extension_dispatch(left, right)\n\u001b[0;32m    268\u001b[0m     \u001b[38;5;129;01mor\u001b[39;00m \u001b[38;5;28misinstance\u001b[39m(right, (Timedelta, BaseOffset, Timestamp))\n\u001b[1;32m   (...)\u001b[0m\n\u001b[0;32m    271\u001b[0m     \u001b[38;5;66;03m# Timedelta/Timestamp and other custom scalars are included in the check\u001b[39;00m\n\u001b[0;32m    272\u001b[0m     \u001b[38;5;66;03m# because numexpr will fail on it, see GH#31457\u001b[39;00m\n\u001b[1;32m--> 273\u001b[0m     res_values \u001b[38;5;241m=\u001b[39m op(left, right)\n\u001b[0;32m    274\u001b[0m \u001b[38;5;28;01melse\u001b[39;00m:\n\u001b[0;32m    275\u001b[0m     \u001b[38;5;66;03m# TODO we should handle EAs consistently and move this check before the if/else\u001b[39;00m\n\u001b[0;32m    276\u001b[0m     \u001b[38;5;66;03m# (https://github.com/pandas-dev/pandas/issues/41165)\u001b[39;00m\n\u001b[0;32m    277\u001b[0m     \u001b[38;5;66;03m# error: Argument 2 to \"_bool_arith_check\" has incompatible type\u001b[39;00m\n\u001b[0;32m    278\u001b[0m     \u001b[38;5;66;03m# \"Union[ExtensionArray, ndarray[Any, Any]]\"; expected \"ndarray[Any, Any]\"\u001b[39;00m\n\u001b[0;32m    279\u001b[0m     _bool_arith_check(op, left, right)  \u001b[38;5;66;03m# type: ignore[arg-type]\u001b[39;00m\n",
      "File \u001b[1;32m~\\anaconda3\\Lib\\site-packages\\pandas\\core\\ops\\common.py:76\u001b[0m, in \u001b[0;36m_unpack_zerodim_and_defer.<locals>.new_method\u001b[1;34m(self, other)\u001b[0m\n\u001b[0;32m     72\u001b[0m             \u001b[38;5;28;01mreturn\u001b[39;00m \u001b[38;5;28mNotImplemented\u001b[39m\n\u001b[0;32m     74\u001b[0m other \u001b[38;5;241m=\u001b[39m item_from_zerodim(other)\n\u001b[1;32m---> 76\u001b[0m \u001b[38;5;28;01mreturn\u001b[39;00m method(\u001b[38;5;28mself\u001b[39m, other)\n",
      "File \u001b[1;32m~\\anaconda3\\Lib\\site-packages\\pandas\\core\\arrays\\datetimelike.py:1459\u001b[0m, in \u001b[0;36mDatetimeLikeArrayMixin.__sub__\u001b[1;34m(self, other)\u001b[0m\n\u001b[0;32m   1454\u001b[0m     result \u001b[38;5;241m=\u001b[39m \u001b[38;5;28mself\u001b[39m\u001b[38;5;241m.\u001b[39m_addsub_object_array(other, operator\u001b[38;5;241m.\u001b[39msub)\n\u001b[0;32m   1455\u001b[0m \u001b[38;5;28;01melif\u001b[39;00m lib\u001b[38;5;241m.\u001b[39mis_np_dtype(other_dtype, \u001b[38;5;124m\"\u001b[39m\u001b[38;5;124mM\u001b[39m\u001b[38;5;124m\"\u001b[39m) \u001b[38;5;129;01mor\u001b[39;00m \u001b[38;5;28misinstance\u001b[39m(\n\u001b[0;32m   1456\u001b[0m     other_dtype, DatetimeTZDtype\n\u001b[0;32m   1457\u001b[0m ):\n\u001b[0;32m   1458\u001b[0m     \u001b[38;5;66;03m# DatetimeIndex, ndarray[datetime64]\u001b[39;00m\n\u001b[1;32m-> 1459\u001b[0m     result \u001b[38;5;241m=\u001b[39m \u001b[38;5;28mself\u001b[39m\u001b[38;5;241m.\u001b[39m_sub_datetime_arraylike(other)\n\u001b[0;32m   1460\u001b[0m \u001b[38;5;28;01melif\u001b[39;00m \u001b[38;5;28misinstance\u001b[39m(other_dtype, PeriodDtype):\n\u001b[0;32m   1461\u001b[0m     \u001b[38;5;66;03m# PeriodIndex\u001b[39;00m\n\u001b[0;32m   1462\u001b[0m     result \u001b[38;5;241m=\u001b[39m \u001b[38;5;28mself\u001b[39m\u001b[38;5;241m.\u001b[39m_sub_periodlike(other)\n",
      "File \u001b[1;32m~\\anaconda3\\Lib\\site-packages\\pandas\\core\\arrays\\datetimelike.py:1156\u001b[0m, in \u001b[0;36mDatetimeLikeArrayMixin._sub_datetime_arraylike\u001b[1;34m(self, other)\u001b[0m\n\u001b[0;32m   1153\u001b[0m \u001b[38;5;28mself\u001b[39m \u001b[38;5;241m=\u001b[39m cast(\u001b[38;5;124m\"\u001b[39m\u001b[38;5;124mDatetimeArray\u001b[39m\u001b[38;5;124m\"\u001b[39m, \u001b[38;5;28mself\u001b[39m)\n\u001b[0;32m   1155\u001b[0m \u001b[38;5;28mself\u001b[39m, other \u001b[38;5;241m=\u001b[39m \u001b[38;5;28mself\u001b[39m\u001b[38;5;241m.\u001b[39m_ensure_matching_resos(other)\n\u001b[1;32m-> 1156\u001b[0m \u001b[38;5;28;01mreturn\u001b[39;00m \u001b[38;5;28mself\u001b[39m\u001b[38;5;241m.\u001b[39m_sub_datetimelike(other)\n",
      "File \u001b[1;32m~\\anaconda3\\Lib\\site-packages\\pandas\\core\\arrays\\datetimelike.py:1168\u001b[0m, in \u001b[0;36mDatetimeLikeArrayMixin._sub_datetimelike\u001b[1;34m(self, other)\u001b[0m\n\u001b[0;32m   1166\u001b[0m \u001b[38;5;28;01mexcept\u001b[39;00m \u001b[38;5;167;01mTypeError\u001b[39;00m \u001b[38;5;28;01mas\u001b[39;00m err:\n\u001b[0;32m   1167\u001b[0m     new_message \u001b[38;5;241m=\u001b[39m \u001b[38;5;28mstr\u001b[39m(err)\u001b[38;5;241m.\u001b[39mreplace(\u001b[38;5;124m\"\u001b[39m\u001b[38;5;124mcompare\u001b[39m\u001b[38;5;124m\"\u001b[39m, \u001b[38;5;124m\"\u001b[39m\u001b[38;5;124msubtract\u001b[39m\u001b[38;5;124m\"\u001b[39m)\n\u001b[1;32m-> 1168\u001b[0m     \u001b[38;5;28;01mraise\u001b[39;00m \u001b[38;5;28mtype\u001b[39m(err)(new_message) \u001b[38;5;28;01mfrom\u001b[39;00m \u001b[38;5;21;01merr\u001b[39;00m\n\u001b[0;32m   1170\u001b[0m other_i8, o_mask \u001b[38;5;241m=\u001b[39m \u001b[38;5;28mself\u001b[39m\u001b[38;5;241m.\u001b[39m_get_i8_values_and_mask(other)\n\u001b[0;32m   1171\u001b[0m res_values \u001b[38;5;241m=\u001b[39m add_overflowsafe(\u001b[38;5;28mself\u001b[39m\u001b[38;5;241m.\u001b[39masi8, np\u001b[38;5;241m.\u001b[39masarray(\u001b[38;5;241m-\u001b[39mother_i8, dtype\u001b[38;5;241m=\u001b[39m\u001b[38;5;124m\"\u001b[39m\u001b[38;5;124mi8\u001b[39m\u001b[38;5;124m\"\u001b[39m))\n",
      "\u001b[1;31mTypeError\u001b[0m: Cannot subtract tz-naive and tz-aware datetime-like objects"
     ]
    }
   ],
   "source": [
    "df_hospitalvisitdata['AGE_AT_HospitalVisit'] = ( df_hospitalvisitdata['START']-df_hospitalvisitdata['BIRTHDATE'] ).dt.days // 365"
   ]
  },
  {
   "cell_type": "code",
   "execution_count": null,
   "id": "d0bdd6d8-2cf6-41f1-b879-505a7820d62d",
   "metadata": {},
   "outputs": [],
   "source": [
    "\n"
   ]
  }
 ],
 "metadata": {
  "kernelspec": {
   "display_name": "Python 3 (ipykernel)",
   "language": "python",
   "name": "python3"
  },
  "language_info": {
   "codemirror_mode": {
    "name": "ipython",
    "version": 3
   },
   "file_extension": ".py",
   "mimetype": "text/x-python",
   "name": "python",
   "nbconvert_exporter": "python",
   "pygments_lexer": "ipython3",
   "version": "3.12.7"
  }
 },
 "nbformat": 4,
 "nbformat_minor": 5
}
