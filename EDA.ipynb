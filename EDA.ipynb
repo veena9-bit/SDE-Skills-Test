{
 "cells": [
  {
   "cell_type": "markdown",
   "id": "0f93f657-bc6f-46b2-9711-79114b49179c",
   "metadata": {},
   "source": [
    "#### Synthea Health: Data Analysis and Insights Generation"
   ]
  },
  {
   "cell_type": "markdown",
   "id": "51e57adb-51ef-44b8-ac40-c6f5369c4ee5",
   "metadata": {},
   "source": [
    "!pip install -r requirements.txt"
   ]
  },
  {
   "cell_type": "markdown",
   "id": "938d3c2c-f0ee-434b-9879-8dcffb6b53f1",
   "metadata": {},
   "source": [
    "#### Exploratory Data Analysis"
   ]
  },
  {
   "cell_type": "code",
   "execution_count": 16,
   "id": "7e345ad7-c4e7-4969-8948-8659401d3570",
   "metadata": {},
   "outputs": [],
   "source": [
    "#import the required funcions and packages for EDA\n",
    "\n",
    "import pandas as pd\n",
    "from utils.utils import read_data_parse_dates,get_demographic_plot\n",
    "import json\n",
    "import plotly.express as px"
   ]
  },
  {
   "cell_type": "code",
   "execution_count": 18,
   "id": "ee94fe5d-c5cf-4bd6-934f-d15889b58ed6",
   "metadata": {},
   "outputs": [
    {
     "name": "stdout",
     "output_type": "stream",
     "text": [
      "output Folder: C://Users//veena.vemula//Documents//GitHub//SDE-Skills-Test//Output\n"
     ]
    }
   ],
   "source": [
    "config_file_path = './config/config.json'\n",
    "\n",
    "# Load the JSON file\n",
    "with open(config_file_path, 'r') as file:\n",
    "    config = json.load(file)\n",
    "\n",
    "# Access the value of 'input_folder'\n",
    "output_folder = config.get('cleaned_data_path')\n",
    "print(\"output Folder:\", output_folder)"
   ]
  },
  {
   "cell_type": "code",
   "execution_count": 22,
   "id": "20a00a57-fe8e-4292-ba85-d6c42ab3071e",
   "metadata": {},
   "outputs": [
    {
     "name": "stdout",
     "output_type": "stream",
     "text": [
      "exception in read_data\n"
     ]
    }
   ],
   "source": [
    "df_patients =  read_data_parse_dates(output_folder,\"patients_cleaned\",[\"BIRTHDATE\"])\n",
    "df_encounters =  read_data_parse_dates(output_folder,\"encounters_cleaned\",[\"START_ENC\",\"STOP_ENC\"])\n",
    "df_conditions =  read_data_parse_dates(output_folder,\"conditions_cleaned\",[\"START_DIAG\",\"STOP_DIAG\"])\n",
    "df_medications =  read_data_parse_dates(output_folder,\"medications_cleaned\",[\"START_MED\",\"STOP_MED\"])\n",
    "df_procedures =  read_data_parse_dates(output_folder,\"procedures_cleaned\",[\"START_PROC\",\"STOP_PROC\"])"
   ]
  },
  {
   "cell_type": "code",
   "execution_count": null,
   "id": "9fd85c76-8253-4352-a073-a409545b497d",
   "metadata": {},
   "outputs": [],
   "source": []
  }
 ],
 "metadata": {
  "kernelspec": {
   "display_name": "Python 3 (ipykernel)",
   "language": "python",
   "name": "python3"
  },
  "language_info": {
   "codemirror_mode": {
    "name": "ipython",
    "version": 3
   },
   "file_extension": ".py",
   "mimetype": "text/x-python",
   "name": "python",
   "nbconvert_exporter": "python",
   "pygments_lexer": "ipython3",
   "version": "3.12.7"
  }
 },
 "nbformat": 4,
 "nbformat_minor": 5
}
