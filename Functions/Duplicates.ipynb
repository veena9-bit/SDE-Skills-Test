{
 "cells": [
  {
   "cell_type": "code",
   "execution_count": 23,
   "id": "91c03893-8099-4a2e-97dc-3ee290f61429",
   "metadata": {},
   "outputs": [],
   "source": [
    "import pandas as pd\n",
    "\n",
    "def check_duplicates_rows(df):\n",
    "    \"\"\"\n",
    "    Check for duplicates in a DataFrame.\n",
    "    \n",
    "    Parameters:\n",
    "    df (pd.DataFrame): The DataFrame to check for duplicates.\n",
    "    \n",
    "    Returns:\n",
    "    str: Message indicating whether duplicates are found or not.\n",
    "    \"\"\"\n",
    "    if df.duplicated().any():\n",
    "        return \"Duplicates found.\"\n",
    "    else:\n",
    "        return \"No duplicates.\"\n"
   ]
  },
  {
   "cell_type": "code",
   "execution_count": 25,
   "id": "41596999-547c-4845-85b5-e1e574e92a6a",
   "metadata": {},
   "outputs": [
    {
     "name": "stdout",
     "output_type": "stream",
     "text": [
      "Function saved to my_functions.py\n"
     ]
    }
   ],
   "source": [
    "# Save the function to a .py file\n",
    "function_code = \"\"\"\n",
    "    import pandas as pd\n",
    "\n",
    "def check_duplicates_rows(df):\n",
    "   \n",
    "    if df.duplicated().any():\n",
    "        return \"Duplicates found.\"\n",
    "    else:\n",
    "        return \"No duplicates.\" \"\"\"\n",
    " \n",
    "with open('my_functions.py', 'w') as file:\n",
    "    file.write(function_code)\n",
    "\n",
    "print(\"Function saved to my_functions.py\")\n"
   ]
  },
  {
   "cell_type": "code",
   "execution_count": null,
   "id": "e1a8e81f-0e73-4b70-9d16-be9e38a17315",
   "metadata": {},
   "outputs": [],
   "source": []
  }
 ],
 "metadata": {
  "kernelspec": {
   "display_name": "Python 3 (ipykernel)",
   "language": "python",
   "name": "python3"
  },
  "language_info": {
   "codemirror_mode": {
    "name": "ipython",
    "version": 3
   },
   "file_extension": ".py",
   "mimetype": "text/x-python",
   "name": "python",
   "nbconvert_exporter": "python",
   "pygments_lexer": "ipython3",
   "version": "3.12.7"
  }
 },
 "nbformat": 4,
 "nbformat_minor": 5
}
