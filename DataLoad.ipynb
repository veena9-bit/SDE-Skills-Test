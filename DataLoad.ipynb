{
 "cells": [
  {
   "cell_type": "code",
   "execution_count": null,
   "id": "520b3b6a-77bf-499e-86fe-ff58b051c065",
   "metadata": {},
   "outputs": [],
   "source": [
    "# Import the read_csv function from my_functions.py\n",
    "import my_functions\n",
    "\n",
    "# Read Patients_csv\n",
    "df_patients = r'C:\\Users\\veena.vemula\\Documents\\GitHub\\SDE-Skills-Test\\Config\\Source Files\\csv\\patients.csv'  # Replace this with the actual file path\n",
    "\n",
    "# Call the read_csv function to load patients data\n",
    "df_patients = my_functions.read_csv(df_patients)\n",
    "\n",
    "# Check the result (show the first few rows)\n",
    "if df_patients is not None:\n",
    "    print(df_patients.head())\n",
    "else:\n",
    "    print(\"Failed to load the Patients CSV file.\")\n",
    "\n",
    "# Read conditions_csv\n",
    "df_conditions = r'C:\\Users\\veena.vemula\\Documents\\GitHub\\SDE-Skills-Test\\Config\\Source Files\\csv\\conditions.csv'  # Replace this with the actual file path\n",
    "\n",
    "# Call the read_csv function to load patients data\n",
    "df_conditions = my_functions.read_csv(df_conditions)\n",
    "\n",
    "# Check the result (show the first few rows)\n",
    "if df_conditions is not None:\n",
    "    print(df_conditions.head())\n",
    "else:\n",
    "    print(\"Failed to load the Conditions CSV file.\")\n",
    "\n",
    "# Read encounters_csv\n",
    "df_encounter = r'C:\\Users\\veena.vemula\\Documents\\GitHub\\SDE-Skills-Test\\Config\\Source Files\\csv\\encounters.csv'  # Replace this with the actual file path\n",
    "\n",
    "# Call the read_csv function to load patients data\n",
    "df_encounter = my_functions.read_csv(df_encounter)\n",
    "\n",
    "# Check the result (show the first few rows)\n",
    "if df_encounter is not None:\n",
    "    print(df_encounter.head())\n",
    "else:\n",
    "    print(\"Failed to load encounters CSV file.\")\n",
    "\n",
    "\n",
    "# Read medications_csv\n",
    "df_medication = r'C:\\Users\\veena.vemula\\Documents\\GitHub\\SDE-Skills-Test\\Config\\Source Files\\csv\\encounters.csv'  # Replace this with the actual file path\n",
    "\n",
    "# Call the read_csv function to load patients data\n",
    "df_medication = my_functions.read_csv(df_medication)\n",
    "\n",
    "# Check the result (show the first few rows)\n",
    "if df_medication is not None:\n",
    "    print(df_medication.head())\n",
    "else:\n",
    "    print(\"Failed to load medication CSV file.\")\n",
    "\n",
    "\n",
    "# Read Procedures_csv\n",
    "df_procedures = r'C:\\Users\\veena.vemula\\Documents\\GitHub\\SDE-Skills-Test\\Config\\Source Files\\csv\\procedures.csv'  # Replace this with the actual file path\n",
    "\n",
    "# Call the read_csv function to load patients data\n",
    "df_procedures = my_functions.read_csv(df_procedures)\n",
    "\n",
    "# Check the result (show the first few rows)\n",
    "if df_procedures is not None:\n",
    "    print(df_procedures.head())\n",
    "else:\n",
    "    print(\"Failed to load the procedure CSV file.\")\n",
    "\n",
    "# Read Organization_csv\n",
    "df_organizations = r'C:\\Users\\veena.vemula\\Documents\\GitHub\\SDE-Skills-Test\\Config\\Source Files\\csv\\organizations.csv'  # Replace this with the actual file path\n",
    "\n",
    "# Call the read_csv function to load patients data\n",
    "df_organizations = my_functions.read_csv(df_organizations)\n",
    "\n",
    "# Check the result (show the first few rows)\n",
    "if df_organizations is not None:\n",
    "    print(df_organizations.head())\n",
    "else:\n",
    "    print(\"Failed to load the organization CSV file.\")\n"
   ]
  },
  {
   "cell_type": "code",
   "execution_count": null,
   "id": "80faffc2-6609-42ff-859c-1ef1553a0445",
   "metadata": {},
   "outputs": [],
   "source": [
    "\"\"\" Check for any duplicate rows in each of dataset\"\"\"\n",
    "\n",
    "num_duplicates = df_patients.duplicated().sum()\n",
    "if num_duplicates > 0:\n",
    "    print(f\"Number of duplicate rows: {num_duplicates}\")\n",
    "else:\n",
    "    print(f\"No Duplicate values found in Patients file\")\n",
    "\n",
    "\n"
   ]
  },
  {
   "cell_type": "code",
   "execution_count": 657,
   "id": "5b6ee40d-6a5f-46d2-8aaf-7f4dc6921361",
   "metadata": {},
   "outputs": [
    {
     "name": "stdout",
     "output_type": "stream",
     "text": [
      "No duplicate values found in Patients file\n",
      "No duplicate values found in conditions file\n",
      "No duplicate values found in encounters file\n",
      "No duplicate values found in Medications file\n",
      "No duplicate values found in Procedures file\n",
      "No duplicate values found in organizations file\n"
     ]
    }
   ],
   "source": [
    "# List of DataFrames\n",
    "dataframes = {\n",
    "    \"Patients\": df_patients,\n",
    "    \"conditions\": df_conditions ,\n",
    "    \"encounters\": df_encounter,\n",
    "    \"Medications\":df_medication,\n",
    "    \"Procedures\": df_procedures,\n",
    "    \"organizations\" :df_organizations\n",
    "}\n",
    "\n",
    "# Loop through all DataFrames and check for duplicates\n",
    "for name, df in dataframes.items():\n",
    "    num_duplicates = df.duplicated().sum()\n",
    "    \n",
    "    if num_duplicates > 0:\n",
    "        print(f\"Number of duplicate rows in {name} file: {num_duplicates}\")\n",
    "    else:\n",
    "        print(f\"No duplicate values found in {name} file\")\n"
   ]
  },
  {
   "cell_type": "code",
   "execution_count": null,
   "id": "c6c98aa1-5957-476f-a66a-12bee16f4520",
   "metadata": {},
   "outputs": [],
   "source": [
    "\"\"\" Use Value_counts() to inspect the data and identify if any paterns \"\"\"\n",
    "\n",
    "df_patients['ADDRESS'].value_counts()\n",
    "df_patients['FIRST'].value_counts()\n"
   ]
  },
  {
   "cell_type": "code",
   "execution_count": null,
   "id": "895c6dc2-4679-4e7f-b64b-59586db1cb83",
   "metadata": {},
   "outputs": [],
   "source": [
    "df_patients.head()"
   ]
  },
  {
   "cell_type": "code",
   "execution_count": 661,
   "id": "a81a3fd4-4613-4cfb-9e98-472abf63dcf9",
   "metadata": {},
   "outputs": [
    {
     "name": "stdout",
     "output_type": "stream",
     "text": [
      "Missing values in the DataFrame:\n",
      "Id                        0\n",
      "BIRTHDATE                 0\n",
      "DEATHDATE              1000\n",
      "SSN                       0\n",
      "DRIVERS                 215\n",
      "PASSPORT                276\n",
      "PREFIX                  245\n",
      "FIRST                     0\n",
      "LAST                      0\n",
      "SUFFIX                 1147\n",
      "MAIDEN                  832\n",
      "MARITAL                 384\n",
      "RACE                      0\n",
      "ETHNICITY                 0\n",
      "GENDER                    0\n",
      "BIRTHPLACE                0\n",
      "ADDRESS                   0\n",
      "CITY                      0\n",
      "STATE                     0\n",
      "COUNTY                    0\n",
      "ZIP                     545\n",
      "LAT                       0\n",
      "LON                       0\n",
      "HEALTHCARE_EXPENSES       0\n",
      "HEALTHCARE_COVERAGE       0\n",
      "dtype: int64\n"
     ]
    }
   ],
   "source": [
    "missing_values = df_patients .isnull().sum()\n",
    "print(\"Missing values in the DataFrame:\")\n",
    "print(missing_values)"
   ]
  },
  {
   "cell_type": "code",
   "execution_count": null,
   "id": "e5a5972f-9751-4a00-ac93-47360f04ebdf",
   "metadata": {},
   "outputs": [],
   "source": [
    "missing_values = df_conditions.isnull().sum()\n",
    "print(\"Missing values in the DataFrame:\")\n",
    "print(missing_values)"
   ]
  },
  {
   "cell_type": "code",
   "execution_count": null,
   "id": "00a5f329-2cb4-484c-9d90-9b8a2d55e91f",
   "metadata": {},
   "outputs": [],
   "source": [
    "missing_values = df_encounter.isnull().sum()\n",
    "print(\"Missing values in the DataFrame:\")\n",
    "print(missing_values)"
   ]
  },
  {
   "cell_type": "code",
   "execution_count": null,
   "id": "e89c0d3f-0ebd-4b4b-9f08-20d13b52d404",
   "metadata": {},
   "outputs": [],
   "source": [
    "missing_values = df_medication.isnull().sum()\n",
    "print(\"Missing values in the DataFrame:\")\n",
    "print(missing_values)"
   ]
  },
  {
   "cell_type": "code",
   "execution_count": null,
   "id": "7a117b17-fcea-44f3-baa3-7932b2af902e",
   "metadata": {},
   "outputs": [],
   "source": [
    "missing_values = df_procedures.isnull().sum()\n",
    "print(\"Missing values in the DataFrame:\")\n",
    "print(missing_values)"
   ]
  },
  {
   "cell_type": "code",
   "execution_count": null,
   "id": "ea37a727-0ebe-4426-b1a7-764be5055e3a",
   "metadata": {},
   "outputs": [],
   "source": [
    "missing_values = df_organizations.isnull().sum()\n",
    "print(\"Missing values in the DataFrame:\")\n",
    "print(missing_values)"
   ]
  },
  {
   "cell_type": "code",
   "execution_count": null,
   "id": "19dcdfbc-2947-4132-a071-237321ccc04b",
   "metadata": {},
   "outputs": [],
   "source": [
    "print(\"\\nData types of each column:\")\n",
    "print(df_patients.dtypes)"
   ]
  },
  {
   "cell_type": "code",
   "execution_count": null,
   "id": "acddf40e-cdd4-42a0-8c10-2c6586ac7174",
   "metadata": {},
   "outputs": [],
   "source": [
    "df_patientsdata = df_patients[['Id','BIRTHDATE','DEATHDATE','PREFIX','FIRST','LAST','MARITAL','RACE','ETHNICITY','GENDER','BIRTHPLACE','ADDRESS','CITY','STATE','ZIP']]\n",
    "\n",
    "string_cols = ['Id','PREFIX','FIRST','LAST','MARITAL',\n",
    "                                         'RACE','ETHNICITY','BIRTHPLACE','GENDER','ADDRESS','CITY','STATE']\n",
    "for i in string_cols:\n",
    "    df_patientsdata[i] = df_patientsdata[i].astype('string')\n",
    "\n",
    "df_patientsdata['BIRTHDATE'] = pd.to_datetime(df_patientsdata['BIRTHDATE'])\n",
    "df_patientsdata['DEATHDATE'] = pd.to_datetime(df_patientsdata['DEATHDATE'], errors='coerce')  # Handle invalid dates\n",
    "\n",
    "df_patientsdata.rename(columns={'Id': 'PatientId'}, inplace=True)"
   ]
  },
  {
   "cell_type": "code",
   "execution_count": null,
   "id": "e29bf0a9-ee42-44e8-a294-28e6c7607464",
   "metadata": {},
   "outputs": [],
   "source": [
    "print(df_patientsdata.dtypes)"
   ]
  },
  {
   "cell_type": "code",
   "execution_count": null,
   "id": "22adcfa0-eff0-4aca-b86c-4d8c0b750fb2",
   "metadata": {},
   "outputs": [],
   "source": [
    "df_patientsdata.columns"
   ]
  },
  {
   "cell_type": "code",
   "execution_count": null,
   "id": "1dd42f9b-9bc4-4b8a-be32-fc0501db6010",
   "metadata": {},
   "outputs": [],
   "source": [
    "df_conditionsdata = df_conditions[['START','STOP','PATIENT','ENCOUNTER','CODE','DESCRIPTION']]\n",
    "\n",
    "string_cols = ['PATIENT','ENCOUNTER','CODE','DESCRIPTION']\n",
    "for i in string_cols:\n",
    "    df_conditionsdata[i] = df_conditionsdata[i].astype('string')\n",
    "\n",
    "df_conditionsdata['START'] = pd.to_datetime(df_conditionsdata['START'])\n",
    "df_conditionsdata['STOP'] = pd.to_datetime(df_conditionsdata['STOP'], errors='coerce')  # Handle invalid dates\n",
    "\n",
    "df_conditionsdata.rename(columns={'CODE': 'DiagnosisCode'}, inplace=True)\n",
    "df_conditionsdata.rename(columns={'PATIENT': 'PatientId'}, inplace=True)"
   ]
  },
  {
   "cell_type": "code",
   "execution_count": null,
   "id": "01f40229-0878-46be-8641-ad2b11b55832",
   "metadata": {},
   "outputs": [],
   "source": [
    "df_conditionsdata.dtypes"
   ]
  },
  {
   "cell_type": "code",
   "execution_count": null,
   "id": "bf21de08-6614-4945-9d81-f244c729d014",
   "metadata": {},
   "outputs": [],
   "source": [
    "df_conditionsdata.head()"
   ]
  },
  {
   "cell_type": "code",
   "execution_count": null,
   "id": "3e2ba239-3729-4ed7-978c-78285faed4d8",
   "metadata": {},
   "outputs": [],
   "source": [
    "df_encounterdata = df_encounter[['Id','START','STOP','PATIENT','ORGANIZATION','ENCOUNTERCLASS','CODE','DESCRIPTION']]\n",
    "\n",
    "string_cols = ['Id','PATIENT','ORGANIZATION','ENCOUNTERCLASS','CODE','DESCRIPTION']\n",
    "for i in string_cols:\n",
    "    df_encounterdata[i] = df_encounterdata[i].astype('string')\n",
    "\n",
    "df_encounterdata['START'] = pd.to_datetime(df_encounterdata['START'])\n",
    "df_encounterdata['STOP'] = pd.to_datetime(df_encounterdata['STOP'], errors='coerce')  # Handle invalid dates\n",
    "\n",
    "df_encounterdata.rename(columns={'PATIENT': 'PatientId'}, inplace=True)"
   ]
  },
  {
   "cell_type": "code",
   "execution_count": null,
   "id": "8104530c-abb2-4cd3-9440-7994beaf8069",
   "metadata": {},
   "outputs": [],
   "source": [
    "df_encounterdata.dtypes"
   ]
  },
  {
   "cell_type": "code",
   "execution_count": null,
   "id": "3aefff06-27cc-4bb1-82c8-e80a955ca7b4",
   "metadata": {},
   "outputs": [],
   "source": [
    "df_medication.dtypes"
   ]
  },
  {
   "cell_type": "code",
   "execution_count": null,
   "id": "75c973cf-b106-498b-bd1f-753dc0d2c73b",
   "metadata": {},
   "outputs": [],
   "source": [
    "df_medicationdata = df_medication[['Id','START','STOP','PATIENT','ORGANIZATION','ENCOUNTERCLASS','CODE','DESCRIPTION']]\n",
    "\n",
    "string_cols = ['Id','PATIENT','ORGANIZATION','ENCOUNTERCLASS','CODE','DESCRIPTION']\n",
    "for i in string_cols:\n",
    "    df_medicationdata[i] = df_medicationdata[i].astype('string')\n",
    "\n",
    "df_medicationdata['START'] = pd.to_datetime(df_medicationdata['START'])\n",
    "df_medicationdata['STOP'] = pd.to_datetime(df_medicationdata['STOP'], errors='coerce')  # Handle invalid dates\n",
    "\n",
    "df_medicationdata.rename(columns={'PATIENT': 'PatientId'}, inplace=True)"
   ]
  },
  {
   "cell_type": "code",
   "execution_count": null,
   "id": "4471b1eb-e690-4f17-9fa0-24507d52046e",
   "metadata": {},
   "outputs": [],
   "source": [
    "df_medicationdata.dtypes"
   ]
  },
  {
   "cell_type": "code",
   "execution_count": null,
   "id": "3d58e2a5-d2a0-4b44-b0ad-97eecd98c162",
   "metadata": {},
   "outputs": [],
   "source": [
    "df_proceduredata = df_procedures[['START','STOP','PATIENT','ENCOUNTER','CODE','DESCRIPTION']]\n",
    "\n",
    "string_cols = ['PATIENT','ENCOUNTER','CODE','DESCRIPTION']\n",
    "for i in string_cols:\n",
    "    df_proceduredata[i] = df_proceduredata[i].astype('string')\n",
    "\n",
    "df_proceduredata['START'] = pd.to_datetime(df_proceduredata['START'])\n",
    "df_proceduredata['STOP'] = pd.to_datetime(df_proceduredata['STOP'], errors='coerce')  # Handle invalid dates\n",
    "\n",
    "df_proceduredata.rename(columns={'PATIENT': 'PatientId'}, inplace=True)"
   ]
  },
  {
   "cell_type": "code",
   "execution_count": null,
   "id": "c21902ef-1c57-4eca-81f2-703b053de432",
   "metadata": {},
   "outputs": [],
   "source": [
    "df_proceduredata.dtypes"
   ]
  },
  {
   "cell_type": "code",
   "execution_count": null,
   "id": "e3cb4846-8c8e-493a-ad7c-887ad95f9a6c",
   "metadata": {},
   "outputs": [],
   "source": [
    "df_organizations.head()\n"
   ]
  },
  {
   "cell_type": "code",
   "execution_count": null,
   "id": "10ee48ea-8e9c-4203-9394-1d690b99b24f",
   "metadata": {},
   "outputs": [],
   "source": [
    "df_organizationdata = df_organizations[['Id','NAME','ADDRESS','CITY','STATE','ZIP']]\n",
    "\n",
    "string_cols = ['Id','NAME','ADDRESS','CITY','STATE']\n",
    "for i in string_cols:\n",
    "    df_organizationdata[i] = df_organizationdata[i].astype('string')\n",
    "\n",
    "df_organizationdata['ZIP'] = df_organizationdata['ZIP'].astype('float64')\n",
    "\n"
   ]
  },
  {
   "cell_type": "code",
   "execution_count": null,
   "id": "317e652d-7e81-4857-8569-bc35886ef14b",
   "metadata": {},
   "outputs": [],
   "source": [
    "df_organizationdata.dtypes"
   ]
  },
  {
   "cell_type": "code",
   "execution_count": null,
   "id": "9d7443e5-fc5b-453d-b5d5-9ecd37392102",
   "metadata": {},
   "outputs": [],
   "source": [
    "df_patientsdata.columns\n"
   ]
  },
  {
   "cell_type": "code",
   "execution_count": null,
   "id": "21fe4eea-4bf7-4be3-aea8-279c592ed928",
   "metadata": {},
   "outputs": [],
   "source": [
    "df_conditionsdata.columns"
   ]
  },
  {
   "cell_type": "code",
   "execution_count": null,
   "id": "8a3ec590-a014-47d8-8180-0935d2f9d545",
   "metadata": {},
   "outputs": [],
   "source": [
    "\"\"\" Transformations\"\"\"\n",
    "df_daignosisdatamerge = pd.merge(df_patientsdata, df_conditionsdata, on='PatientId', how='left')\n",
    "\n",
    "df_diagnosisdata.drop(df_diagnosisdata.index, inplace=True)\n",
    "# Select specific columns\n",
    "df_diagnosisdata = df_daignosisdatamerge[['BIRTHDATE','START', 'STOP', 'PatientId', 'ENCOUNTER', 'DiagnosisCode',\n",
    "       'DESCRIPTION']]\n"
   ]
  },
  {
   "cell_type": "code",
   "execution_count": 671,
   "id": "510fdb3b-d679-4400-9397-73c207f98e61",
   "metadata": {},
   "outputs": [
    {
     "data": {
      "text/plain": [
       "Index(['BIRTHDATE', 'START', 'STOP', 'PatientId', 'ENCOUNTER', 'DiagnosisCode',\n",
       "       'DESCRIPTION'],\n",
       "      dtype='object')"
      ]
     },
     "execution_count": 671,
     "metadata": {},
     "output_type": "execute_result"
    }
   ],
   "source": [
    "df_diagnosisdata.columns\n"
   ]
  },
  {
   "cell_type": "code",
   "execution_count": null,
   "id": "f2a2901a-128e-48ef-a90b-a81d37fc7982",
   "metadata": {},
   "outputs": [],
   "source": [
    "df_daignosisdata['AGE_AT_DIAGNOSIS'] = ( df_daignosisdata['START']-df_daignosisdata['BIRTHDATE'] ).dt.days // 365"
   ]
  },
  {
   "cell_type": "code",
   "execution_count": null,
   "id": "29cf0de8-b526-4795-982e-a937786773b0",
   "metadata": {},
   "outputs": [],
   "source": [
    "pip install matplotlib"
   ]
  },
  {
   "cell_type": "code",
   "execution_count": 689,
   "id": "b29f821c-bb87-4d35-a07d-a1d118a8b780",
   "metadata": {},
   "outputs": [
    {
     "ename": "ConversionError",
     "evalue": "Failed to convert value(s) to axis units: array(['b9c610cd-28a6-4636-ccb6-c7a0d2a4cb85',\n       'c1f1fcaa-82fd-d5b7-3544-c8f9708b06a8',\n       'c1f1fcaa-82fd-d5b7-3544-c8f9708b06a8', ...,\n       'cb1b2c74-d1c5-997c-6f8b-20ca9f332eef',\n       'cb1b2c74-d1c5-997c-6f8b-20ca9f332eef',\n       'cb1b2c74-d1c5-997c-6f8b-20ca9f332eef'], dtype=object)",
     "output_type": "error",
     "traceback": [
      "\u001b[1;31m---------------------------------------------------------------------------\u001b[0m",
      "\u001b[1;31mValueError\u001b[0m                                Traceback (most recent call last)",
      "File \u001b[1;32m~\\anaconda3\\Lib\\site-packages\\matplotlib\\axis.py:1813\u001b[0m, in \u001b[0;36mAxis.convert_units\u001b[1;34m(self, x)\u001b[0m\n\u001b[0;32m   1812\u001b[0m \u001b[38;5;28;01mtry\u001b[39;00m:\n\u001b[1;32m-> 1813\u001b[0m     ret \u001b[38;5;241m=\u001b[39m \u001b[38;5;28mself\u001b[39m\u001b[38;5;241m.\u001b[39mconverter\u001b[38;5;241m.\u001b[39mconvert(x, \u001b[38;5;28mself\u001b[39m\u001b[38;5;241m.\u001b[39munits, \u001b[38;5;28mself\u001b[39m)\n\u001b[0;32m   1814\u001b[0m \u001b[38;5;28;01mexcept\u001b[39;00m \u001b[38;5;167;01mException\u001b[39;00m \u001b[38;5;28;01mas\u001b[39;00m e:\n",
      "File \u001b[1;32m~\\anaconda3\\Lib\\site-packages\\matplotlib\\category.py:49\u001b[0m, in \u001b[0;36mStrCategoryConverter.convert\u001b[1;34m(value, unit, axis)\u001b[0m\n\u001b[0;32m     48\u001b[0m \u001b[38;5;28;01mif\u001b[39;00m unit \u001b[38;5;129;01mis\u001b[39;00m \u001b[38;5;28;01mNone\u001b[39;00m:\n\u001b[1;32m---> 49\u001b[0m     \u001b[38;5;28;01mraise\u001b[39;00m \u001b[38;5;167;01mValueError\u001b[39;00m(\n\u001b[0;32m     50\u001b[0m         \u001b[38;5;124m'\u001b[39m\u001b[38;5;124mMissing category information for StrCategoryConverter; \u001b[39m\u001b[38;5;124m'\u001b[39m\n\u001b[0;32m     51\u001b[0m         \u001b[38;5;124m'\u001b[39m\u001b[38;5;124mthis might be caused by unintendedly mixing categorical and \u001b[39m\u001b[38;5;124m'\u001b[39m\n\u001b[0;32m     52\u001b[0m         \u001b[38;5;124m'\u001b[39m\u001b[38;5;124mnumeric data\u001b[39m\u001b[38;5;124m'\u001b[39m)\n\u001b[0;32m     53\u001b[0m StrCategoryConverter\u001b[38;5;241m.\u001b[39m_validate_unit(unit)\n",
      "\u001b[1;31mValueError\u001b[0m: Missing category information for StrCategoryConverter; this might be caused by unintendedly mixing categorical and numeric data",
      "\nThe above exception was the direct cause of the following exception:\n",
      "\u001b[1;31mConversionError\u001b[0m                           Traceback (most recent call last)",
      "Cell \u001b[1;32mIn[689], line 5\u001b[0m\n\u001b[0;32m      3\u001b[0m df_daignosisdatahist \u001b[38;5;241m=\u001b[39m df_daignosisdata[[\u001b[38;5;124m'\u001b[39m\u001b[38;5;124mAGE_AT_DIAGNOSIS\u001b[39m\u001b[38;5;124m'\u001b[39m ,\u001b[38;5;124m'\u001b[39m\u001b[38;5;124mPatientId\u001b[39m\u001b[38;5;124m'\u001b[39m]]\n\u001b[0;32m      4\u001b[0m \u001b[38;5;66;03m# Create histogram\u001b[39;00m\n\u001b[1;32m----> 5\u001b[0m plt\u001b[38;5;241m.\u001b[39mhist(df_daignosisdatahist, bins\u001b[38;5;241m=\u001b[39m\u001b[38;5;241m10\u001b[39m, edgecolor\u001b[38;5;241m=\u001b[39m\u001b[38;5;124m'\u001b[39m\u001b[38;5;124mblack\u001b[39m\u001b[38;5;124m'\u001b[39m)\n\u001b[0;32m      7\u001b[0m \u001b[38;5;66;03m# Add labels and title\u001b[39;00m\n\u001b[0;32m      8\u001b[0m plt\u001b[38;5;241m.\u001b[39mxlabel(df_daignosisdatahist[\u001b[38;5;124m'\u001b[39m\u001b[38;5;124mAGE_AT_DIAGNOSIS\u001b[39m\u001b[38;5;124m'\u001b[39m])\n",
      "File \u001b[1;32m~\\anaconda3\\Lib\\site-packages\\matplotlib\\pyplot.py:3440\u001b[0m, in \u001b[0;36mhist\u001b[1;34m(x, bins, range, density, weights, cumulative, bottom, histtype, align, orientation, rwidth, log, color, label, stacked, data, **kwargs)\u001b[0m\n\u001b[0;32m   3415\u001b[0m \u001b[38;5;129m@_copy_docstring_and_deprecators\u001b[39m(Axes\u001b[38;5;241m.\u001b[39mhist)\n\u001b[0;32m   3416\u001b[0m \u001b[38;5;28;01mdef\u001b[39;00m \u001b[38;5;21mhist\u001b[39m(\n\u001b[0;32m   3417\u001b[0m     x: ArrayLike \u001b[38;5;241m|\u001b[39m Sequence[ArrayLike],\n\u001b[1;32m   (...)\u001b[0m\n\u001b[0;32m   3438\u001b[0m     BarContainer \u001b[38;5;241m|\u001b[39m Polygon \u001b[38;5;241m|\u001b[39m \u001b[38;5;28mlist\u001b[39m[BarContainer \u001b[38;5;241m|\u001b[39m Polygon],\n\u001b[0;32m   3439\u001b[0m ]:\n\u001b[1;32m-> 3440\u001b[0m     \u001b[38;5;28;01mreturn\u001b[39;00m gca()\u001b[38;5;241m.\u001b[39mhist(\n\u001b[0;32m   3441\u001b[0m         x,\n\u001b[0;32m   3442\u001b[0m         bins\u001b[38;5;241m=\u001b[39mbins,\n\u001b[0;32m   3443\u001b[0m         \u001b[38;5;28mrange\u001b[39m\u001b[38;5;241m=\u001b[39m\u001b[38;5;28mrange\u001b[39m,\n\u001b[0;32m   3444\u001b[0m         density\u001b[38;5;241m=\u001b[39mdensity,\n\u001b[0;32m   3445\u001b[0m         weights\u001b[38;5;241m=\u001b[39mweights,\n\u001b[0;32m   3446\u001b[0m         cumulative\u001b[38;5;241m=\u001b[39mcumulative,\n\u001b[0;32m   3447\u001b[0m         bottom\u001b[38;5;241m=\u001b[39mbottom,\n\u001b[0;32m   3448\u001b[0m         histtype\u001b[38;5;241m=\u001b[39mhisttype,\n\u001b[0;32m   3449\u001b[0m         align\u001b[38;5;241m=\u001b[39malign,\n\u001b[0;32m   3450\u001b[0m         orientation\u001b[38;5;241m=\u001b[39morientation,\n\u001b[0;32m   3451\u001b[0m         rwidth\u001b[38;5;241m=\u001b[39mrwidth,\n\u001b[0;32m   3452\u001b[0m         log\u001b[38;5;241m=\u001b[39mlog,\n\u001b[0;32m   3453\u001b[0m         color\u001b[38;5;241m=\u001b[39mcolor,\n\u001b[0;32m   3454\u001b[0m         label\u001b[38;5;241m=\u001b[39mlabel,\n\u001b[0;32m   3455\u001b[0m         stacked\u001b[38;5;241m=\u001b[39mstacked,\n\u001b[0;32m   3456\u001b[0m         \u001b[38;5;241m*\u001b[39m\u001b[38;5;241m*\u001b[39m({\u001b[38;5;124m\"\u001b[39m\u001b[38;5;124mdata\u001b[39m\u001b[38;5;124m\"\u001b[39m: data} \u001b[38;5;28;01mif\u001b[39;00m data \u001b[38;5;129;01mis\u001b[39;00m \u001b[38;5;129;01mnot\u001b[39;00m \u001b[38;5;28;01mNone\u001b[39;00m \u001b[38;5;28;01melse\u001b[39;00m {}),\n\u001b[0;32m   3457\u001b[0m         \u001b[38;5;241m*\u001b[39m\u001b[38;5;241m*\u001b[39mkwargs,\n\u001b[0;32m   3458\u001b[0m     )\n",
      "File \u001b[1;32m~\\anaconda3\\Lib\\site-packages\\matplotlib\\__init__.py:1473\u001b[0m, in \u001b[0;36m_preprocess_data.<locals>.inner\u001b[1;34m(ax, data, *args, **kwargs)\u001b[0m\n\u001b[0;32m   1470\u001b[0m \u001b[38;5;129m@functools\u001b[39m\u001b[38;5;241m.\u001b[39mwraps(func)\n\u001b[0;32m   1471\u001b[0m \u001b[38;5;28;01mdef\u001b[39;00m \u001b[38;5;21minner\u001b[39m(ax, \u001b[38;5;241m*\u001b[39margs, data\u001b[38;5;241m=\u001b[39m\u001b[38;5;28;01mNone\u001b[39;00m, \u001b[38;5;241m*\u001b[39m\u001b[38;5;241m*\u001b[39mkwargs):\n\u001b[0;32m   1472\u001b[0m     \u001b[38;5;28;01mif\u001b[39;00m data \u001b[38;5;129;01mis\u001b[39;00m \u001b[38;5;28;01mNone\u001b[39;00m:\n\u001b[1;32m-> 1473\u001b[0m         \u001b[38;5;28;01mreturn\u001b[39;00m func(\n\u001b[0;32m   1474\u001b[0m             ax,\n\u001b[0;32m   1475\u001b[0m             \u001b[38;5;241m*\u001b[39m\u001b[38;5;28mmap\u001b[39m(sanitize_sequence, args),\n\u001b[0;32m   1476\u001b[0m             \u001b[38;5;241m*\u001b[39m\u001b[38;5;241m*\u001b[39m{k: sanitize_sequence(v) \u001b[38;5;28;01mfor\u001b[39;00m k, v \u001b[38;5;129;01min\u001b[39;00m kwargs\u001b[38;5;241m.\u001b[39mitems()})\n\u001b[0;32m   1478\u001b[0m     bound \u001b[38;5;241m=\u001b[39m new_sig\u001b[38;5;241m.\u001b[39mbind(ax, \u001b[38;5;241m*\u001b[39margs, \u001b[38;5;241m*\u001b[39m\u001b[38;5;241m*\u001b[39mkwargs)\n\u001b[0;32m   1479\u001b[0m     auto_label \u001b[38;5;241m=\u001b[39m (bound\u001b[38;5;241m.\u001b[39marguments\u001b[38;5;241m.\u001b[39mget(label_namer)\n\u001b[0;32m   1480\u001b[0m                   \u001b[38;5;129;01mor\u001b[39;00m bound\u001b[38;5;241m.\u001b[39mkwargs\u001b[38;5;241m.\u001b[39mget(label_namer))\n",
      "File \u001b[1;32m~\\anaconda3\\Lib\\site-packages\\matplotlib\\axes\\_axes.py:6922\u001b[0m, in \u001b[0;36mAxes.hist\u001b[1;34m(self, x, bins, range, density, weights, cumulative, bottom, histtype, align, orientation, rwidth, log, color, label, stacked, **kwargs)\u001b[0m\n\u001b[0;32m   6920\u001b[0m \u001b[38;5;28;01mif\u001b[39;00m orientation \u001b[38;5;241m==\u001b[39m \u001b[38;5;124m\"\u001b[39m\u001b[38;5;124mvertical\u001b[39m\u001b[38;5;124m\"\u001b[39m:\n\u001b[0;32m   6921\u001b[0m     convert_units \u001b[38;5;241m=\u001b[39m \u001b[38;5;28mself\u001b[39m\u001b[38;5;241m.\u001b[39mconvert_xunits\n\u001b[1;32m-> 6922\u001b[0m     x \u001b[38;5;241m=\u001b[39m [\u001b[38;5;241m*\u001b[39m\u001b[38;5;28mself\u001b[39m\u001b[38;5;241m.\u001b[39m_process_unit_info([(\u001b[38;5;124m\"\u001b[39m\u001b[38;5;124mx\u001b[39m\u001b[38;5;124m\"\u001b[39m, x[\u001b[38;5;241m0\u001b[39m])], kwargs),\n\u001b[0;32m   6923\u001b[0m          \u001b[38;5;241m*\u001b[39m\u001b[38;5;28mmap\u001b[39m(convert_units, x[\u001b[38;5;241m1\u001b[39m:])]\n\u001b[0;32m   6924\u001b[0m \u001b[38;5;28;01melse\u001b[39;00m:  \u001b[38;5;66;03m# horizontal\u001b[39;00m\n\u001b[0;32m   6925\u001b[0m     convert_units \u001b[38;5;241m=\u001b[39m \u001b[38;5;28mself\u001b[39m\u001b[38;5;241m.\u001b[39mconvert_yunits\n",
      "File \u001b[1;32m~\\anaconda3\\Lib\\site-packages\\matplotlib\\artist.py:279\u001b[0m, in \u001b[0;36mArtist.convert_xunits\u001b[1;34m(self, x)\u001b[0m\n\u001b[0;32m    277\u001b[0m \u001b[38;5;28;01mif\u001b[39;00m ax \u001b[38;5;129;01mis\u001b[39;00m \u001b[38;5;28;01mNone\u001b[39;00m \u001b[38;5;129;01mor\u001b[39;00m ax\u001b[38;5;241m.\u001b[39mxaxis \u001b[38;5;129;01mis\u001b[39;00m \u001b[38;5;28;01mNone\u001b[39;00m:\n\u001b[0;32m    278\u001b[0m     \u001b[38;5;28;01mreturn\u001b[39;00m x\n\u001b[1;32m--> 279\u001b[0m \u001b[38;5;28;01mreturn\u001b[39;00m ax\u001b[38;5;241m.\u001b[39mxaxis\u001b[38;5;241m.\u001b[39mconvert_units(x)\n",
      "File \u001b[1;32m~\\anaconda3\\Lib\\site-packages\\matplotlib\\axis.py:1815\u001b[0m, in \u001b[0;36mAxis.convert_units\u001b[1;34m(self, x)\u001b[0m\n\u001b[0;32m   1813\u001b[0m     ret \u001b[38;5;241m=\u001b[39m \u001b[38;5;28mself\u001b[39m\u001b[38;5;241m.\u001b[39mconverter\u001b[38;5;241m.\u001b[39mconvert(x, \u001b[38;5;28mself\u001b[39m\u001b[38;5;241m.\u001b[39munits, \u001b[38;5;28mself\u001b[39m)\n\u001b[0;32m   1814\u001b[0m \u001b[38;5;28;01mexcept\u001b[39;00m \u001b[38;5;167;01mException\u001b[39;00m \u001b[38;5;28;01mas\u001b[39;00m e:\n\u001b[1;32m-> 1815\u001b[0m     \u001b[38;5;28;01mraise\u001b[39;00m munits\u001b[38;5;241m.\u001b[39mConversionError(\u001b[38;5;124m'\u001b[39m\u001b[38;5;124mFailed to convert value(s) to axis \u001b[39m\u001b[38;5;124m'\u001b[39m\n\u001b[0;32m   1816\u001b[0m                                  \u001b[38;5;124mf\u001b[39m\u001b[38;5;124m'\u001b[39m\u001b[38;5;124munits: \u001b[39m\u001b[38;5;132;01m{\u001b[39;00mx\u001b[38;5;132;01m!r}\u001b[39;00m\u001b[38;5;124m'\u001b[39m) \u001b[38;5;28;01mfrom\u001b[39;00m \u001b[38;5;21;01me\u001b[39;00m\n\u001b[0;32m   1817\u001b[0m \u001b[38;5;28;01mreturn\u001b[39;00m ret\n",
      "\u001b[1;31mConversionError\u001b[0m: Failed to convert value(s) to axis units: array(['b9c610cd-28a6-4636-ccb6-c7a0d2a4cb85',\n       'c1f1fcaa-82fd-d5b7-3544-c8f9708b06a8',\n       'c1f1fcaa-82fd-d5b7-3544-c8f9708b06a8', ...,\n       'cb1b2c74-d1c5-997c-6f8b-20ca9f332eef',\n       'cb1b2c74-d1c5-997c-6f8b-20ca9f332eef',\n       'cb1b2c74-d1c5-997c-6f8b-20ca9f332eef'], dtype=object)"
     ]
    },
    {
     "data": {
      "image/png": "[encoded data removed]",
      "text/plain": [
       "<Figure size 640x480 with 1 Axes>"
      ]
     },
     "metadata": {},
     "output_type": "display_data"
    }
   ],
   "source": [
    "\n",
    "import matplotlib.pyplot as plt\n",
    "\n",
    "df_daignosisdatahist = df_daignosisdata[['AGE_AT_DIAGNOSIS' ,'PatientId']]\n",
    "# Create histogram\n",
    "plt.hist(df_daignosisdatahist, bins=10, edgecolor='black')\n",
    "\n",
    "# Add labels and title\n",
    "plt.xlabel(df_daignosisdatahist['AGE_AT_DIAGNOSIS'])\n",
    "\"\"\"plt.ylabel(df_daignosisdatahist['PatientId'].value_counts())\"\"\"\n",
    "plt.title('Histogram Example')\n",
    "\n",
    "# Show the plot\n",
    "plt.show()\n"
   ]
  },
  {
   "cell_type": "code",
   "execution_count": 683,
   "id": "4fa64db3-03da-458c-9c0b-a4086d000fec",
   "metadata": {},
   "outputs": [
    {
     "data": {
      "text/plain": [
       "PatientId\n",
       "e23c7a6e-6ef2-3932-1361-b73b4c8a3961    460\n",
       "139f1206-227d-4cf1-2bea-7d3154516bdf    435\n",
       "e6178711-3936-e332-814d-19d8851e314d    355\n",
       "8c6ae452-5f8c-9ff6-006d-c6c860acf5cd    352\n",
       "ef167059-cef0-12c4-49db-993ca3a20c01    328\n",
       "                                       ... \n",
       "6895f047-ab31-c293-b335-374256e01eb1      1\n",
       "9055bf8d-a995-d068-a3e0-666a002b5683      1\n",
       "3c0f81dc-96bf-3f9c-6e4f-5763f9614fb2      1\n",
       "ec3c4200-341e-dc28-d580-cf6f78d90897      1\n",
       "b9c610cd-28a6-4636-ccb6-c7a0d2a4cb85      1\n",
       "Name: count, Length: 1163, dtype: Int64"
      ]
     },
     "execution_count": 683,
     "metadata": {},
     "output_type": "execute_result"
    }
   ],
   "source": [
    "df_daignosisdatahist['PatientId'].value_counts()"
   ]
  },
  {
   "cell_type": "code",
   "execution_count": null,
   "id": "2ada867d-016d-467b-95c0-1da494a461ad",
   "metadata": {},
   "outputs": [],
   "source": [
    "\"\"\"Define Age Groups\"\"\"\n",
    "\n",
    "\n",
    "# Define bins and labels\n",
    "bins = [0, 5, 10, 15, 20, 25, 30, 35, 40, 45, 50, 55, 60, 65, 70, 75, 80, 85, 90, float('inf')]\n",
    "labels = ['0-5', '5-10', '10-15', '15-20', '20-25', '25-30', '30-35', '35-40', '40-45',\n",
    "          '45-50', '50-55', '55-60', '60-65', '65-70', '70-75', '75-80', '80-85', '85-90', '90+']\n",
    "\n",
    "# Categorize the ages\n",
    "df_daignosisdata['Age Group'] = pd.cut(df_daignosisdata['AGE_AT_DIAGNOSIS'], bins=bins, labels=labels, right=False)\n",
    "\n",
    "\n"
   ]
  },
  {
   "cell_type": "code",
   "execution_count": null,
   "id": "9b98d44a-2d02-4eed-8095-98187af8873b",
   "metadata": {},
   "outputs": [],
   "source": [
    "df_daignosisdata.head()"
   ]
  },
  {
   "cell_type": "code",
   "execution_count": null,
   "id": "0c3d8c94-4a83-455c-b257-dd60b15f9b6b",
   "metadata": {},
   "outputs": [],
   "source": [
    "\"\"\" Length of Stay\"\"\"\n",
    "df_encounterdata.head()"
   ]
  },
  {
   "cell_type": "code",
   "execution_count": null,
   "id": "71bb6991-cd95-48c1-b95a-1773f83096a6",
   "metadata": {},
   "outputs": [],
   "source": [
    "\"\"\" Transformations\"\"\"\n",
    "df_encounterdatamerge = pd.merge(df_patientsdata, df_encounterdata, on='PatientId', how='left')\n",
    "\n",
    "\n",
    "# Select specific columns\n",
    "df_hospitalvisitdata = df_encounterdatamerge[['BIRTHDATE','Id', 'START', 'STOP', 'PatientId', 'ORGANIZATION', 'ENCOUNTERCLASS',\n",
    "       'CODE', 'DESCRIPTION']]\n",
    "df_hospitalvisitdata.rename(columns={'Id': 'EncounterID'}, inplace=True)\n"
   ]
  },
  {
   "cell_type": "code",
   "execution_count": null,
   "id": "4d44f81b-3b3f-46c1-9d8a-5c6d337062d5",
   "metadata": {},
   "outputs": [],
   "source": [
    "df_hospitalvisitdata.dtypes"
   ]
  },
  {
   "cell_type": "code",
   "execution_count": null,
   "id": "c531d77c-1b25-4c25-a06b-f1861e07dd88",
   "metadata": {},
   "outputs": [],
   "source": [
    "df_hospitalvisitdata['START'] = df_hospitalvisitdata['START'].dt.tz_localize(None)\n",
    "\n",
    "df_hospitalvisitdata['AGE_AT_HospitalVisit'] = ( df_hospitalvisitdata['START']-df_hospitalvisitdata['BIRTHDATE'] ).dt.days // 365"
   ]
  },
  {
   "cell_type": "code",
   "execution_count": 655,
   "id": "d0bdd6d8-2cf6-41f1-b879-505a7820d62d",
   "metadata": {},
   "outputs": [
    {
     "name": "stderr",
     "output_type": "stream",
     "text": [
      "C:\\Users\\veena.vemula\\AppData\\Local\\Temp\\ipykernel_7976\\65022048.py:1: SettingWithCopyWarning: \n",
      "A value is trying to be set on a copy of a slice from a DataFrame.\n",
      "Try using .loc[row_indexer,col_indexer] = value instead\n",
      "\n",
      "See the caveats in the documentation: https://pandas.pydata.org/pandas-docs/stable/user_guide/indexing.html#returning-a-view-versus-a-copy\n",
      "  df_hospitalvisitdata['STOP'] = df_hospitalvisitdata['STOP'].dt.tz_localize(None)\n",
      "C:\\Users\\veena.vemula\\AppData\\Local\\Temp\\ipykernel_7976\\65022048.py:2: SettingWithCopyWarning: \n",
      "A value is trying to be set on a copy of a slice from a DataFrame.\n",
      "Try using .loc[row_indexer,col_indexer] = value instead\n",
      "\n",
      "See the caveats in the documentation: https://pandas.pydata.org/pandas-docs/stable/user_guide/indexing.html#returning-a-view-versus-a-copy\n",
      "  df_hospitalvisitdata['length of Stay'] = (df_hospitalvisitdata['STOP'] - df_hospitalvisitdata['START']).dt.days\n"
     ]
    }
   ],
   "source": [
    "df_hospitalvisitdata['STOP'] = df_hospitalvisitdata['STOP'].dt.tz_localize(None)\n",
    "df_hospitalvisitdata['length of Stay'] = (df_hospitalvisitdata['STOP'] - df_hospitalvisitdata['START']).dt.days\n"
   ]
  },
  {
   "cell_type": "code",
   "execution_count": 653,
   "id": "b62f7505-6502-47bf-a391-8f500b35fc42",
   "metadata": {},
   "outputs": [
    {
     "data": {
      "text/html": [
       "<div>\n",
       "<style scoped>\n",
       "    .dataframe tbody tr th:only-of-type {\n",
       "        vertical-align: middle;\n",
       "    }\n",
       "\n",
       "    .dataframe tbody tr th {\n",
       "        vertical-align: top;\n",
       "    }\n",
       "\n",
       "    .dataframe thead th {\n",
       "        text-align: right;\n",
       "    }\n",
       "</style>\n",
       "<table border=\"1\" class=\"dataframe\">\n",
       "  <thead>\n",
       "    <tr style=\"text-align: right;\">\n",
       "      <th></th>\n",
       "      <th>Id</th>\n",
       "      <th>START</th>\n",
       "      <th>STOP</th>\n",
       "      <th>PatientId</th>\n",
       "      <th>ORGANIZATION</th>\n",
       "      <th>ENCOUNTERCLASS</th>\n",
       "      <th>CODE</th>\n",
       "      <th>DESCRIPTION</th>\n",
       "    </tr>\n",
       "  </thead>\n",
       "  <tbody>\n",
       "    <tr>\n",
       "      <th>0</th>\n",
       "      <td>748f8357-6cc7-551d-f31a-32fa2cf84126</td>\n",
       "      <td>2019-02-17 05:07:38+00:00</td>\n",
       "      <td>2019-02-17 05:22:38+00:00</td>\n",
       "      <td>b9c610cd-28a6-4636-ccb6-c7a0d2a4cb85</td>\n",
       "      <td>f7ae497d-8dc6-3721-9402-43b621a4e7d2</td>\n",
       "      <td>wellness</td>\n",
       "      <td>410620009</td>\n",
       "      <td>Well child visit (procedure)</td>\n",
       "    </tr>\n",
       "    <tr>\n",
       "      <th>1</th>\n",
       "      <td>5a4735ae-423f-6563-28ab-b3d11b49b2d4</td>\n",
       "      <td>2019-03-24 05:07:38+00:00</td>\n",
       "      <td>2019-03-24 05:22:38+00:00</td>\n",
       "      <td>b9c610cd-28a6-4636-ccb6-c7a0d2a4cb85</td>\n",
       "      <td>f7ae497d-8dc6-3721-9402-43b621a4e7d2</td>\n",
       "      <td>wellness</td>\n",
       "      <td>410620009</td>\n",
       "      <td>Well child visit (procedure)</td>\n",
       "    </tr>\n",
       "    <tr>\n",
       "      <th>2</th>\n",
       "      <td>0bee1ce6-3e2c-5506-f71c-a7ba8f64a3d3</td>\n",
       "      <td>2019-05-26 05:07:38+00:00</td>\n",
       "      <td>2019-05-26 05:22:38+00:00</td>\n",
       "      <td>b9c610cd-28a6-4636-ccb6-c7a0d2a4cb85</td>\n",
       "      <td>f7ae497d-8dc6-3721-9402-43b621a4e7d2</td>\n",
       "      <td>wellness</td>\n",
       "      <td>410620009</td>\n",
       "      <td>Well child visit (procedure)</td>\n",
       "    </tr>\n",
       "    <tr>\n",
       "      <th>3</th>\n",
       "      <td>6e93bcf9-45a4-8528-0120-1c1eaa930faf</td>\n",
       "      <td>2019-07-28 05:07:38+00:00</td>\n",
       "      <td>2019-07-28 05:22:38+00:00</td>\n",
       "      <td>b9c610cd-28a6-4636-ccb6-c7a0d2a4cb85</td>\n",
       "      <td>f7ae497d-8dc6-3721-9402-43b621a4e7d2</td>\n",
       "      <td>wellness</td>\n",
       "      <td>410620009</td>\n",
       "      <td>Well child visit (procedure)</td>\n",
       "    </tr>\n",
       "    <tr>\n",
       "      <th>4</th>\n",
       "      <td>8b6787c3-4316-a0cb-899d-4746525c319f</td>\n",
       "      <td>2019-10-27 05:07:38+00:00</td>\n",
       "      <td>2019-10-27 05:22:38+00:00</td>\n",
       "      <td>b9c610cd-28a6-4636-ccb6-c7a0d2a4cb85</td>\n",
       "      <td>f7ae497d-8dc6-3721-9402-43b621a4e7d2</td>\n",
       "      <td>wellness</td>\n",
       "      <td>410620009</td>\n",
       "      <td>Well child visit (procedure)</td>\n",
       "    </tr>\n",
       "  </tbody>\n",
       "</table>\n",
       "</div>"
      ],
      "text/plain": [
       "                                     Id                     START  \\\n",
       "0  748f8357-6cc7-551d-f31a-32fa2cf84126 2019-02-17 05:07:38+00:00   \n",
       "1  5a4735ae-423f-6563-28ab-b3d11b49b2d4 2019-03-24 05:07:38+00:00   \n",
       "2  0bee1ce6-3e2c-5506-f71c-a7ba8f64a3d3 2019-05-26 05:07:38+00:00   \n",
       "3  6e93bcf9-45a4-8528-0120-1c1eaa930faf 2019-07-28 05:07:38+00:00   \n",
       "4  8b6787c3-4316-a0cb-899d-4746525c319f 2019-10-27 05:07:38+00:00   \n",
       "\n",
       "                       STOP                             PatientId  \\\n",
       "0 2019-02-17 05:22:38+00:00  b9c610cd-28a6-4636-ccb6-c7a0d2a4cb85   \n",
       "1 2019-03-24 05:22:38+00:00  b9c610cd-28a6-4636-ccb6-c7a0d2a4cb85   \n",
       "2 2019-05-26 05:22:38+00:00  b9c610cd-28a6-4636-ccb6-c7a0d2a4cb85   \n",
       "3 2019-07-28 05:22:38+00:00  b9c610cd-28a6-4636-ccb6-c7a0d2a4cb85   \n",
       "4 2019-10-27 05:22:38+00:00  b9c610cd-28a6-4636-ccb6-c7a0d2a4cb85   \n",
       "\n",
       "                           ORGANIZATION ENCOUNTERCLASS       CODE  \\\n",
       "0  f7ae497d-8dc6-3721-9402-43b621a4e7d2       wellness  410620009   \n",
       "1  f7ae497d-8dc6-3721-9402-43b621a4e7d2       wellness  410620009   \n",
       "2  f7ae497d-8dc6-3721-9402-43b621a4e7d2       wellness  410620009   \n",
       "3  f7ae497d-8dc6-3721-9402-43b621a4e7d2       wellness  410620009   \n",
       "4  f7ae497d-8dc6-3721-9402-43b621a4e7d2       wellness  410620009   \n",
       "\n",
       "                    DESCRIPTION  \n",
       "0  Well child visit (procedure)  \n",
       "1  Well child visit (procedure)  \n",
       "2  Well child visit (procedure)  \n",
       "3  Well child visit (procedure)  \n",
       "4  Well child visit (procedure)  "
      ]
     },
     "execution_count": 653,
     "metadata": {},
     "output_type": "execute_result"
    }
   ],
   "source": [
    "df_encounterdata.head()"
   ]
  },
  {
   "cell_type": "code",
   "execution_count": null,
   "id": "1fdab7b6-d05f-46c6-bbcb-6222a9347897",
   "metadata": {},
   "outputs": [],
   "source": [
    "/** NUmber of visits per patient\n",
    "df_encounter"
   ]
  }
 ],
 "metadata": {
  "kernelspec": {
   "display_name": "Python 3 (ipykernel)",
   "language": "python",
   "name": "python3"
  },
  "language_info": {
   "codemirror_mode": {
    "name": "ipython",
    "version": 3
   },
   "file_extension": ".py",
   "mimetype": "text/x-python",
   "name": "python",
   "nbconvert_exporter": "python",
   "pygments_lexer": "ipython3",
   "version": "3.12.7"
  }
 },
 "nbformat": 4,
 "nbformat_minor": 5
}
