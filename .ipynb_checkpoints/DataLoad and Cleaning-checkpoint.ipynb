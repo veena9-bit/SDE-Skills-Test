{
 "cells": [
  {
   "cell_type": "markdown",
   "id": "89391cee-d7d1-4045-aea4-76ae570bf026",
   "metadata": {},
   "source": [
    "### <span style=\"font-size:22px;\">Synthea Health: Data Analysis and Insights Generation</span>\n"
   ]
  },
  {
   "cell_type": "markdown",
   "id": "f796fd38-ac92-4808-a7d6-e7d7e12e353f",
   "metadata": {},
   "source": [
    "### 1. Initialisation"
   ]
  },
  {
   "cell_type": "code",
   "execution_count": null,
   "id": "adcff805-566a-48fd-9fb6-a47261d73cb0",
   "metadata": {},
   "outputs": [],
   "source": [
    "!pip install -r ./requirements.txt"
   ]
  },
  {
   "cell_type": "markdown",
   "id": "82e65b70-2cd4-4526-8898-f21e81889413",
   "metadata": {},
   "source": [
    "### 2. Data Wrangling & Cleaning"
   ]
  },
  {
   "cell_type": "markdown",
   "id": "51fec3ce-90b9-4572-a8cc-a7578873d2c2",
   "metadata": {},
   "source": [
    "#### 1. Import the required functions for reading CSV files, Cleaning data and transformations"
   ]
  },
  {
   "cell_type": "code",
   "execution_count": null,
   "id": "d04be0fb-4419-4a2c-9998-73d5581c15ba",
   "metadata": {},
   "outputs": [],
   "source": [
    "from utils.utils import read_data,clean_patient_data,transform_patient_data,clean_transform_condition_data,delete_from_data,clean_transform_procedure_data,clean_transform_medication_data,clean_transform_encounters_data\n",
    "import json"
   ]
  },
  {
   "cell_type": "code",
   "execution_count": null,
   "id": "cc847e22-f9e1-410d-af82-d947948eace4",
   "metadata": {},
   "outputs": [],
   "source": [
    "# Read the file path from Config file to retrive the Input folder where all Source files are maintained\n",
    "config_file_path = r'C:\\Users\\veena.vemula\\Documents\\GitHub\\SDE-Skills-Test\\Config\\config.json'\n",
    "\n",
    "# Load the JSON file\n",
    "with open(config_file_path, 'r') as file:\n",
    "    config = json.load(file)\n",
    "\n",
    "# Access the value of 'input_folder'\n",
    "input_folder = config.get('input_folder')\n",
    "print(\"Input Folder:\", input_folder)"
   ]
  },
  {
   "cell_type": "code",
   "execution_count": null,
   "id": "a9c63dc1-cdee-4d75-824c-dd70a5e7b0bf",
   "metadata": {},
   "outputs": [],
   "source": [
    "# Call the read function to load patients data\n",
    "df_patients = read_data(input_folder,\"patients\")\n",
    "df_conditions = read_data(input_folder,\"conditions\")\n",
    "df_encounters = read_data(input_folder,\"encounters\")\n",
    "df_medications = read_data(input_folder,\"medications\")\n",
    "df_procedures = read_data(input_folder,\"procedures\")\n",
    "df_organizations = read_data(input_folder,\"organizations\")\n",
    "\n",
    "# Check the result (show the first few rows)\n",
    "if df_patients is not None:\n",
    "    print(df_patients.head())\n",
    "else:\n",
    "    print(\"Failed to load the Patients CSV file.\")\n",
    "\n",
    "# Check the result (show the first few rows)\n",
    "if df_conditions is not None:\n",
    "    print(df_conditions.head())\n",
    "else:\n",
    "    print(\"Failed to load the Conditions CSV file.\")\n",
    "\n",
    "# Check the result (show the first few rows)\n",
    "if df_encounters is not None:\n",
    "    print(df_encounters.head())\n",
    "else:\n",
    "    print(\"Failed to load the Encounters CSV file.\")\n",
    "\n",
    "# Check the result (show the first few rows)\n",
    "if df_medications is not None:\n",
    "    print(df_medications.head())\n",
    "else:\n",
    "    print(\"Failed to load the medications CSV file.\")\n",
    "\n",
    "# Check the result (show the first few rows)\n",
    "if df_procedures is not None:\n",
    "    print(df_procedures.head())\n",
    "else:\n",
    "    print(\"Failed to load the procedures CSV file.\")\n",
    "\n",
    "# Check the result (show the first few rows)\n",
    "if df_organizations is not None:\n",
    "    print(df_organizations.head())\n",
    "else:\n",
    "    print(\"Failed to load the organizations CSV file.\")\n",
    "\n"
   ]
  },
  {
   "cell_type": "code",
   "execution_count": null,
   "id": "5b6ee40d-6a5f-46d2-8aaf-7f4dc6921361",
   "metadata": {},
   "outputs": [],
   "source": [
    "# List of DataFrames\n",
    "dataframes = {\n",
    "    \"Patients\": df_patients,\n",
    "    \"conditions\": df_conditions ,\n",
    "    \"encounters\": df_encounters,\n",
    "    \"Medications\":df_medications,\n",
    "    \"Procedures\": df_procedures,\n",
    "    \"organizations\" :df_organizations\n",
    "}\n",
    "\n",
    "# Loop through all DataFrames and check for duplicates\n",
    "for name, df in dataframes.items():\n",
    "    num_duplicates = df.duplicated().sum()\n",
    "    \n",
    "    if num_duplicates > 0:\n",
    "        print(f\"Number of duplicate rows in {name} file: {num_duplicates}\")\n",
    "    else:\n",
    "        print(f\"No duplicate values found in {name} file\")\n"
   ]
  },
  {
   "cell_type": "markdown",
   "id": "ecf89150-0eab-447d-aa4d-bc435a569230",
   "metadata": {},
   "source": [
    "#### Cleaning and trnansforming the Patients file"
   ]
  },
  {
   "cell_type": "code",
   "execution_count": null,
   "id": "c6c98aa1-5957-476f-a66a-12bee16f4520",
   "metadata": {},
   "outputs": [],
   "source": [
    "\"\"\" Use Value_counts() to inspect the data and identify if any paterns \"\"\"\n",
    "\n",
    "df_patients['ADDRESS'].value_counts()\n",
    "df_patients['FIRST'].value_counts()\n"
   ]
  },
  {
   "cell_type": "markdown",
   "id": "39370e5b-416b-4506-8465-770204ce462d",
   "metadata": {},
   "source": [
    "Inspecting the Value counts on each of columns dint revela any significant data issues or invalid categorical columns and inconsistent data"
   ]
  },
  {
   "cell_type": "code",
   "execution_count": null,
   "id": "a81a3fd4-4613-4cfb-9e98-472abf63dcf9",
   "metadata": {},
   "outputs": [],
   "source": [
    "missing_values = df_patients .isnull().sum()\n",
    "print(\"Missing values in the DataFrame:\")\n",
    "print(missing_values)"
   ]
  },
  {
   "cell_type": "markdown",
   "id": "a17dbd67-2451-415a-adcb-6a7668571807",
   "metadata": {},
   "source": [
    "By inspecting the Missing values in patients file\n",
    "1) Deat code can be blank if the patient is alive\n",
    "2) Drivers,Passport and Prefix , Suffic Maiden column have null's but at this stage these columns are not significant "
   ]
  },
  {
   "cell_type": "code",
   "execution_count": null,
   "id": "33af64d6-e7f0-4542-9370-07d36221ddc9",
   "metadata": {},
   "outputs": [],
   "source": [
    "## Clean patient data  \n",
    "df_patients = clean_patient_data(df_patients)\n",
    "df_patients.head()"
   ]
  },
  {
   "cell_type": "markdown",
   "id": "e8ab19e0-0701-47bc-bb26-a3e0b6c3fd8e",
   "metadata": {},
   "source": [
    "Check for any duplicate column values\n",
    "Rename the key value to Patientid - This has to be mainted same across all dataframes\n",
    "Retrived the required columns and renamed them to make more sense."
   ]
  },
  {
   "cell_type": "code",
   "execution_count": null,
   "id": "94fc411b-d138-49c9-a03d-eb0793096db1",
   "metadata": {},
   "outputs": [],
   "source": [
    "print(\"\\nData types of each column:\")\n",
    "df_patients.dtypes\n",
    "## all the columns are of object type. we can cast it to desired type for e.g. convert BIRTHDATE to date\n",
    "## GENDER, RACE, ETHNICITY ... to string"
   ]
  },
  {
   "cell_type": "code",
   "execution_count": null,
   "id": "873bd98a-81e0-4aa4-827c-1c4adb167c2d",
   "metadata": {},
   "outputs": [],
   "source": [
    "df_patients = transform_patient_data(df_patients)\n",
    "df_patients.dtypes"
   ]
  },
  {
   "cell_type": "markdown",
   "id": "2939059e-92fc-40c5-9fe0-8539c75d44d9",
   "metadata": {},
   "source": [
    "Transformations have been applied step by step as below.\n",
    "1) Tranform Birthdatetime to required format to calculate patients age.\n",
    "2) Type casting to convert object types to strings i.e gender, Race and Ethinicity\n",
    "3) Describe age bins and label"
   ]
  },
  {
   "cell_type": "code",
   "execution_count": null,
   "id": "745f4106-daf8-4237-8369-9d76ab666766",
   "metadata": {},
   "outputs": [],
   "source": [
    "df_patients.to_csv(\"./output/patients_cleaned.csv\",index=False)"
   ]
  },
  {
   "cell_type": "markdown",
   "id": "a19c83a5-c720-47ad-a910-4c25d16fe230",
   "metadata": {},
   "source": [
    "Export the cleaned file to output folder"
   ]
  },
  {
   "cell_type": "markdown",
   "id": "8b0e3528-992b-4c58-a2ab-754bbace4242",
   "metadata": {},
   "source": [
    "###Cleaning and Transforming Conditions file"
   ]
  },
  {
   "cell_type": "code",
   "execution_count": null,
   "id": "e5a5972f-9751-4a00-ac93-47360f04ebdf",
   "metadata": {},
   "outputs": [],
   "source": [
    "missing_values = df_conditions.isnull().sum()\n",
    "print(\"Missing values in the DataFrame:\")\n",
    "print(missing_values)"
   ]
  },
  {
   "cell_type": "markdown",
   "id": "90434788-f4e3-4f82-a2ca-7e97c12c9030",
   "metadata": {},
   "source": [
    "Inspecting the Missing values Stop can be null as patient can have a disease diagnosed for life time cure example life style diseases like Hypertention"
   ]
  },
  {
   "cell_type": "code",
   "execution_count": null,
   "id": "6ec6e952-7edf-49ad-9477-c459720d116d",
   "metadata": {},
   "outputs": [],
   "source": [
    "print(\"\\nData types of each column:\")\n",
    "df_conditions.dtypes\n",
    "## all the columns are of object type. we can cast it to desired type for e.g. convert date to date"
   ]
  },
  {
   "cell_type": "code",
   "execution_count": null,
   "id": "c130c650-cbd2-4cb9-826d-6b64a25e0b42",
   "metadata": {},
   "outputs": [],
   "source": [
    "df_conditions[\"DESCRIPTION\"].unique()\n",
    "## few desc does not seems to be like disease name so removing it\n",
    "## part-time employment (finding),\n",
    "#Received higher education (finding)',\n",
    "#      'Reports of violence in the environment (finding)',\n",
    "#Has a criminal record (finding),\n",
    "#Received certificate of   high school equivalency (finding)\n",
    "#Full-time employment (finding)\n",
    "list_invalid_values = [\"Received certificate of high school equivalency (finding)\",\"Full-time employment (finding)\",\n",
    "                      \"Part-time employment (finding)\",\"Part-time employment (finding)\",\"Received higher education (finding)\",\n",
    "                      \"Reports of violence in the environment (finding)\",\"Received higher education (finding)\"\n",
    "                      ]\n",
    "df_conditions = delete_from_data(df_conditions,\"DESCRIPTION\",list_invalid_values)\n",
    "df_conditions[\"DESCRIPTION\"].unique() ## removed all above"
   ]
  },
  {
   "cell_type": "code",
   "execution_count": null,
   "id": "eee94912-6911-4c45-8ad0-d4d0234e0c8d",
   "metadata": {
    "scrolled": true
   },
   "outputs": [],
   "source": [
    "df_conditions = clean_transform_condition_data(df_conditions)\n",
    "df_conditions.head()"
   ]
  },
  {
   "cell_type": "markdown",
   "id": "c3c79a50-e828-49b8-a4ef-5d7cfb8077af",
   "metadata": {},
   "source": [
    "Applied the transformations \n",
    "Renaming the key columns\n",
    "Convert Start and stop to required date time column types\n",
    "Rename the columns"
   ]
  },
  {
   "cell_type": "code",
   "execution_count": null,
   "id": "256a6c6a-50c1-46a9-9a95-dc8f64b826c2",
   "metadata": {},
   "outputs": [],
   "source": [
    "df_conditions.to_csv(\"./output/conditions_cleaned.csv\",index=False)"
   ]
  },
  {
   "cell_type": "markdown",
   "id": "e117d164-6eed-492a-a6dc-8b785952b39c",
   "metadata": {},
   "source": [
    "##Export the cleaned data to output folder"
   ]
  },
  {
   "cell_type": "code",
   "execution_count": null,
   "id": "46a1e265-4403-45c0-9601-19bbdc94c1c8",
   "metadata": {},
   "outputs": [],
   "source": [
    "###### WORKING ON medication DATA "
   ]
  },
  {
   "cell_type": "code",
   "execution_count": null,
   "id": "50e1f729-d30a-4563-b967-1a34f8a97a9e",
   "metadata": {},
   "outputs": [],
   "source": [
    "print(\"\\nData types of each column:\")\n",
    "df_medications.dtypes"
   ]
  },
  {
   "cell_type": "code",
   "execution_count": null,
   "id": "e89c0d3f-0ebd-4b4b-9f08-20d13b52d404",
   "metadata": {},
   "outputs": [],
   "source": [
    "missing_values = df_medications.isnull().sum()\n",
    "print(\"Missing values in the DataFrame:\")\n",
    "print(missing_values)"
   ]
  },
  {
   "cell_type": "markdown",
   "id": "dfc6f6df-74ff-4517-bab9-fd6b100a8feb",
   "metadata": {},
   "source": [
    "No data in Stop column indicates the medications can be life time as an example Hypertention. ReasonCode and Reason description are not relevant fields at this atge of analysis"
   ]
  },
  {
   "cell_type": "code",
   "execution_count": null,
   "id": "846e2e7d-d300-4586-b302-816cbd6f8659",
   "metadata": {},
   "outputs": [],
   "source": [
    "df_medications[\"DESCRIPTION\"].unique()"
   ]
  },
  {
   "cell_type": "markdown",
   "id": "5a562392-076c-432e-aeec-2d2b74f31fd2",
   "metadata": {},
   "source": [
    "#Medication description data is clean and no Issues identified"
   ]
  },
  {
   "cell_type": "code",
   "execution_count": null,
   "id": "ad3ed87e-3066-4f6c-b4eb-b6c00694dc6c",
   "metadata": {},
   "outputs": [],
   "source": [
    "df_medications = clean_transform_medication_data(df_medications)\n",
    "df_medications.head()"
   ]
  },
  {
   "cell_type": "markdown",
   "id": "9903b33a-b899-4c13-a853-4fd8e5322bb0",
   "metadata": {},
   "source": [
    "Below transformation have been applied on Medications data\n",
    "1) rename the key ID to patient ID\n",
    "2) Convert starta and stop to date time\n",
    "3) retrive only relevent columns and renamed the columns"
   ]
  },
  {
   "cell_type": "markdown",
   "id": "1edd1202-d625-4fb5-9665-7e20e2d409e3",
   "metadata": {},
   "source": [
    "#### Clean and transform Procedures data"
   ]
  },
  {
   "cell_type": "code",
   "execution_count": null,
   "id": "a97cbbec-7b14-48bc-b8e8-f8632a351f82",
   "metadata": {},
   "outputs": [],
   "source": [
    "print(\"\\nData types of each column:\")\n",
    "df_procedures.dtypes"
   ]
  },
  {
   "cell_type": "code",
   "execution_count": null,
   "id": "7a117b17-fcea-44f3-baa3-7932b2af902e",
   "metadata": {},
   "outputs": [],
   "source": [
    "missing_values = df_procedures.isnull().sum()\n",
    "print(\"Missing values in the DataFrame:\")\n",
    "print(missing_values)"
   ]
  },
  {
   "cell_type": "code",
   "execution_count": null,
   "id": "a6629253-99a8-4846-a916-4a6d2a37e8a3",
   "metadata": {},
   "outputs": [],
   "source": [
    "df_procedures = clean_transform_procedure_data(df_procedures)\n",
    "df_procedures"
   ]
  },
  {
   "cell_type": "markdown",
   "id": "a7f35c69-e2d1-4da1-855e-78663997e179",
   "metadata": {},
   "source": [
    "Below transformation have been applied on Procedures data\n",
    "\n",
    "1)rename the key ID to patient ID\n",
    "2)Convert starta and stop to date time\n",
    "3)retrive only relevent columns and renamed the columns"
   ]
  },
  {
   "cell_type": "code",
   "execution_count": null,
   "id": "d95fbc5d-6df3-4db9-b4f5-dbf1c3c8b793",
   "metadata": {},
   "outputs": [],
   "source": [
    "df_procedures.to_csv(\"./output/procedures_cleaned.csv\",index=False)"
   ]
  },
  {
   "cell_type": "markdown",
   "id": "7fd126ec-1d49-4584-aaa0-5d64d8c575c7",
   "metadata": {},
   "source": [
    "Working on Encounters data and applying the silimar steps\n",
    "1) Inspecting the value counts and checking for missing values\n",
    "2) type casting to string from object type\n",
    "3) converting starta nd stop to date time\n",
    "4) output the cleaned csv to output folder"
   ]
  },
  {
   "cell_type": "code",
   "execution_count": null,
   "id": "68e885fa-3192-4804-8cd5-b28396f037a6",
   "metadata": {},
   "outputs": [],
   "source": [
    "print(\"\\nData types of each column:\")\n",
    "df_encounters.dtypes"
   ]
  },
  {
   "cell_type": "code",
   "execution_count": null,
   "id": "00a5f329-2cb4-484c-9d90-9b8a2d55e91f",
   "metadata": {},
   "outputs": [],
   "source": [
    "missing_values = df_encounters.isnull().sum()\n",
    "print(\"Missing values in the DataFrame:\")\n",
    "print(missing_values)"
   ]
  },
  {
   "cell_type": "code",
   "execution_count": null,
   "id": "ea37a727-0ebe-4426-b1a7-764be5055e3a",
   "metadata": {},
   "outputs": [],
   "source": [
    "missing_values = df_organizations.isnull().sum()\n",
    "print(\"Missing values in the DataFrame:\")\n",
    "print(missing_values)"
   ]
  },
  {
   "cell_type": "code",
   "execution_count": null,
   "id": "edecaeb5-b6c5-40cf-81de-45d4409f6b95",
   "metadata": {},
   "outputs": [],
   "source": [
    "df_encounters = clean_transform_encounters_data(df_encounters)\n",
    "df_encounters"
   ]
  },
  {
   "cell_type": "code",
   "execution_count": null,
   "id": "bcdd6a68-700f-4d10-81ac-2a667ce6bff0",
   "metadata": {},
   "outputs": [],
   "source": [
    "df_encounters.to_csv(\"./output/encounters_cleaned.csv\",index=False)"
   ]
  },
  {
   "cell_type": "markdown",
   "id": "d126e5cb-0ec3-4b55-843b-a065c329dfde",
   "metadata": {},
   "source": [
    "#read Hospital data expecting this data can be used for analysis purpose"
   ]
  },
  {
   "cell_type": "code",
   "execution_count": null,
   "id": "10ee48ea-8e9c-4203-9394-1d690b99b24f",
   "metadata": {},
   "outputs": [],
   "source": [
    "df_organizationdata = df_organizations[['Id','NAME','ADDRESS','CITY','STATE','ZIP']]\n",
    "\n",
    "string_cols = ['Id','NAME','ADDRESS','CITY','STATE']\n",
    "for i in string_cols:\n",
    "    df_organizationdata[i] = df_organizationdata[i].astype('string')\n",
    "\n",
    "df_organizationdata['ZIP'] = df_organizationdata['ZIP'].astype('float64')\n",
    "\n"
   ]
  },
  {
   "cell_type": "code",
   "execution_count": null,
   "id": "8a3ec590-a014-47d8-8180-0935d2f9d545",
   "metadata": {},
   "outputs": [],
   "source": [
    "\"\"\" Transformations\"\"\"\n",
    "df_daignosisdatamerge = pd.merge(df_patientsdata, df_conditionsdata, on='PatientId', how='left')\n",
    "\n",
    "df_diagnosisdata.drop(df_diagnosisdata.index, inplace=True)\n",
    "# Select specific columns\n",
    "df_diagnosisdata = df_daignosisdatamerge[['BIRTHDATE','START', 'STOP', 'PatientId', 'ENCOUNTER', 'DiagnosisCode',\n",
    "       'DESCRIPTION']]\n"
   ]
  },
  {
   "cell_type": "code",
   "execution_count": null,
   "id": "510fdb3b-d679-4400-9397-73c207f98e61",
   "metadata": {},
   "outputs": [],
   "source": [
    "df_diagnosisdata.columns\n"
   ]
  },
  {
   "cell_type": "code",
   "execution_count": null,
   "id": "f2a2901a-128e-48ef-a90b-a81d37fc7982",
   "metadata": {},
   "outputs": [],
   "source": [
    "df_daignosisdata['AGE_AT_DIAGNOSIS'] = ( df_daignosisdata['START']-df_daignosisdata['BIRTHDATE'] ).dt.days // 365"
   ]
  },
  {
   "cell_type": "code",
   "execution_count": null,
   "id": "29cf0de8-b526-4795-982e-a937786773b0",
   "metadata": {},
   "outputs": [],
   "source": [
    "pip install matplotlib"
   ]
  },
  {
   "cell_type": "code",
   "execution_count": null,
   "id": "b29f821c-bb87-4d35-a07d-a1d118a8b780",
   "metadata": {},
   "outputs": [],
   "source": [
    "\n",
    "import matplotlib.pyplot as plt\n",
    "\n",
    "df_daignosisdatahist = df_daignosisdata[['AGE_AT_DIAGNOSIS' ,'PatientId']]\n",
    "# Create histogram\n",
    "plt.hist(df_daignosisdatahist, bins=10, edgecolor='black')\n",
    "\n",
    "# Add labels and title\n",
    "plt.xlabel(df_daignosisdatahist['AGE_AT_DIAGNOSIS'])\n",
    "\"\"\"plt.ylabel(df_daignosisdatahist['PatientId'].value_counts())\"\"\"\n",
    "plt.title('Histogram Example')\n",
    "\n",
    "# Show the plot\n",
    "plt.show()\n"
   ]
  },
  {
   "cell_type": "code",
   "execution_count": null,
   "id": "4fa64db3-03da-458c-9c0b-a4086d000fec",
   "metadata": {},
   "outputs": [],
   "source": [
    "df_daignosisdatahist['PatientId'].value_counts()"
   ]
  },
  {
   "cell_type": "code",
   "execution_count": null,
   "id": "2ada867d-016d-467b-95c0-1da494a461ad",
   "metadata": {},
   "outputs": [],
   "source": [
    "\"\"\"Define Age Groups\"\"\"\n",
    "\n",
    "\n",
    "# Define bins and labels\n",
    "bins = [0, 5, 10, 15, 20, 25, 30, 35, 40, 45, 50, 55, 60, 65, 70, 75, 80, 85, 90, float('inf')]\n",
    "labels = ['0-5', '5-10', '10-15', '15-20', '20-25', '25-30', '30-35', '35-40', '40-45',\n",
    "          '45-50', '50-55', '55-60', '60-65', '65-70', '70-75', '75-80', '80-85', '85-90', '90+']\n",
    "\n",
    "# Categorize the ages\n",
    "df_daignosisdata['Age Group'] = pd.cut(df_daignosisdata['AGE_AT_DIAGNOSIS'], bins=bins, labels=labels, right=False)\n",
    "\n",
    "\n"
   ]
  },
  {
   "cell_type": "code",
   "execution_count": null,
   "id": "9b98d44a-2d02-4eed-8095-98187af8873b",
   "metadata": {},
   "outputs": [],
   "source": [
    "df_daignosisdata.head()"
   ]
  },
  {
   "cell_type": "code",
   "execution_count": null,
   "id": "0c3d8c94-4a83-455c-b257-dd60b15f9b6b",
   "metadata": {},
   "outputs": [],
   "source": [
    "\"\"\" Length of Stay\"\"\"\n",
    "df_encounterdata.head()"
   ]
  },
  {
   "cell_type": "code",
   "execution_count": null,
   "id": "71bb6991-cd95-48c1-b95a-1773f83096a6",
   "metadata": {},
   "outputs": [],
   "source": [
    "\"\"\" Transformations\"\"\"\n",
    "df_encounterdatamerge = pd.merge(df_patientsdata, df_encounterdata, on='PatientId', how='left')\n",
    "\n",
    "\n",
    "# Select specific columns\n",
    "df_hospitalvisitdata = df_encounterdatamerge[['BIRTHDATE','Id', 'START', 'STOP', 'PatientId', 'ORGANIZATION', 'ENCOUNTERCLASS',\n",
    "       'CODE', 'DESCRIPTION']]\n",
    "df_hospitalvisitdata.rename(columns={'Id': 'EncounterID'}, inplace=True)\n"
   ]
  },
  {
   "cell_type": "code",
   "execution_count": null,
   "id": "4d44f81b-3b3f-46c1-9d8a-5c6d337062d5",
   "metadata": {},
   "outputs": [],
   "source": [
    "df_hospitalvisitdata.dtypes"
   ]
  },
  {
   "cell_type": "code",
   "execution_count": null,
   "id": "c531d77c-1b25-4c25-a06b-f1861e07dd88",
   "metadata": {},
   "outputs": [],
   "source": [
    "df_hospitalvisitdata['START'] = df_hospitalvisitdata['START'].dt.tz_localize(None)\n",
    "\n",
    "df_hospitalvisitdata['AGE_AT_HospitalVisit'] = ( df_hospitalvisitdata['START']-df_hospitalvisitdata['BIRTHDATE'] ).dt.days // 365"
   ]
  },
  {
   "cell_type": "code",
   "execution_count": null,
   "id": "d0bdd6d8-2cf6-41f1-b879-505a7820d62d",
   "metadata": {},
   "outputs": [],
   "source": [
    "df_hospitalvisitdata['STOP'] = df_hospitalvisitdata['STOP'].dt.tz_localize(None)\n",
    "df_hospitalvisitdata['length of Stay'] = (df_hospitalvisitdata['STOP'] - df_hospitalvisitdata['START']).dt.days\n"
   ]
  },
  {
   "cell_type": "code",
   "execution_count": null,
   "id": "b62f7505-6502-47bf-a391-8f500b35fc42",
   "metadata": {},
   "outputs": [],
   "source": [
    "df_encounterdata.head()"
   ]
  },
  {
   "cell_type": "code",
   "execution_count": null,
   "id": "1fdab7b6-d05f-46c6-bbcb-6222a9347897",
   "metadata": {},
   "outputs": [],
   "source": [
    "/** NUmber of visits per patient\n",
    "df_encounter"
   ]
  }
 ],
 "metadata": {
  "kernelspec": {
   "display_name": "Python 3 (ipykernel)",
   "language": "python",
   "name": "python3"
  },
  "language_info": {
   "codemirror_mode": {
    "name": "ipython",
    "version": 3
   },
   "file_extension": ".py",
   "mimetype": "text/x-python",
   "name": "python",
   "nbconvert_exporter": "python",
   "pygments_lexer": "ipython3",
   "version": "3.12.7"
  }
 },
 "nbformat": 4,
 "nbformat_minor": 5
}
